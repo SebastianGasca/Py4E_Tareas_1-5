{
 "cells": [
  {
   "cell_type": "markdown",
   "id": "bbd8c87f",
   "metadata": {},
   "source": [
    "## Proyecto 1"
   ]
  },
  {
   "cell_type": "markdown",
   "id": "ede58143-0085-4cb8-8407-8078ce2fad82",
   "metadata": {},
   "source": [
    "**Rules**\n",
    "* Situations that will return an error:\n",
    "  * If there are **too many problems** supplied to the function. The limit is **five**, anything more will return:\n",
    "    `Error: Too many problems.`\n",
    "    \n",
    "  * The appropriate operators the function will accept are **addition** and **subtraction**. Multiplication and division will return an error. Other operators not mentioned in this bullet point will not need to be tested. The error returned will be:\n",
    "    `Error: Operator must be '+' or '-'.`\n",
    "    \n",
    "  * Each number (operand) should only contain digits. Otherwise, the function will return:\n",
    "    `Error: Numbers must only contain digits.`\n",
    "    \n",
    "  * Each operand (aka number on each side of the operator) has a max of four digits in width. Otherwise, the error string returned will be:\n",
    "    `Error: Numbers cannot be more than four digits.`\n",
    "    \n",
    "*  If the user supplied the correct format of problems, the conversion you return will follow these rules:\n",
    "    * There should be a single space between the operator and the longest of the two operands, the operator will be on the same line as the second operand, both operands will be in the same order as provided (the first will be the top one and the second will be the bottom.\n",
    "    * Numbers should be right-aligned.\n",
    "    * There should be four spaces between each problem.\n",
    "    * There should be dashes at the bottom of each problem. The dashes should run along the entire length of each problem individually. (The example above shows what this should look like.)"
   ]
  },
  {
   "cell_type": "code",
   "execution_count": 18,
   "id": "1421311f-4f23-45f6-bb1e-37f7f0591e56",
   "metadata": {},
   "outputs": [
    {
     "name": "stdout",
     "output_type": "stream",
     "text": [
      "['13', '/', '6506']\n"
     ]
    }
   ],
   "source": [
    "import re\n",
    "num = \"13 / 6506\"\n",
    "num1 = \"uno - 42345\"\n",
    "print(num.split())"
   ]
  },
  {
   "cell_type": "code",
   "execution_count": null,
   "id": "9699c7bb",
   "metadata": {},
   "outputs": [],
   "source": [
    "#Si search no encuentra valores retorna  None\n",
    "a = re.search(\"[^0-9a-z\\s+-/*]+\",num)\n",
    "if a is None:\n",
    "    print(\"No Existen valores\")\n",
    "print(a)"
   ]
  },
  {
   "cell_type": "code",
   "execution_count": null,
   "id": "7eaecd3c-a779-43c8-af17-51dc45cffcfa",
   "metadata": {},
   "outputs": [],
   "source": [
    "#Si no se encuentra \" \", + o -\n",
    "b = re.findall(\"[^\\s+-]+\",num) \n",
    "print(b,\"Error: Operator must be '+' or '-'.\" )\n",
    "\n",
    "#Si se encuentra * o /\n",
    "b = re.findall(\"[*/]\",num)\n",
    "print(c, \"Error: Operator must be '+' or '-'.\")"
   ]
  },
  {
   "cell_type": "code",
   "execution_count": null,
   "id": "3424fd76-feca-4959-8252-09175acb1094",
   "metadata": {},
   "outputs": [],
   "source": [
    "c = re.findall(\"[^0-9\\s+-]\\S*\", num1)\n",
    "print(c,\"Error: Numbers must only contain digits.\")"
   ]
  },
  {
   "cell_type": "code",
   "execution_count": null,
   "id": "e6629fc2-a0c8-413b-94a1-37d606eae4e2",
   "metadata": {},
   "outputs": [],
   "source": [
    "#Si los valores numericos son mas largos que 4\n",
    "d = re.findall(\"[0-9]\\S*\",num1)\n",
    "print(d)\n",
    "if len(d[0]) > 4:\n",
    "    print(\"Error: Numbers cannot be more than four digits.\")"
   ]
  },
  {
   "cell_type": "markdown",
   "id": "55a963de",
   "metadata": {},
   "source": [
    "**Variables**"
   ]
  },
  {
   "cell_type": "code",
   "execution_count": 15,
   "id": "69aea089",
   "metadata": {},
   "outputs": [],
   "source": [
    "#Formato incorrecto (Muchos errores)\n",
    "inp0 = [\"$1 * 14\", \"204571 + as\"]\n",
    "\n",
    "#Formato incorrecto (existencia * /)  \n",
    "inp1 = [\"32 + 2\", \"15 * 14\"]\n",
    "\n",
    "#Formato incorrecto (no numerico) \n",
    "inp2 = [\"32 + 8\", \"14 + 15\", \"8 + doce\"]\n",
    "\n",
    "#Formato incorrecto (largo mayor que 4) \n",
    "inp3 = [\"25 - 75\", \"150000 + 250\"]\n",
    "\n",
    "#-------------------------------------\n",
    "\n",
    "#Formato correcto\n",
    "inp = [\"3 - 858\", \"3801 - 2\", \"45 + 43\", \"123 + 49\", \"48 + 457\",\"44 - 48\", \"199 + 20\"]\n",
    "\n"
   ]
  },
  {
   "cell_type": "markdown",
   "id": "1a3f0a8f",
   "metadata": {},
   "source": [
    "**Si hay algun error de formato**"
   ]
  },
  {
   "cell_type": "code",
   "execution_count": null,
   "id": "b034e8b1",
   "metadata": {},
   "outputs": [],
   "source": []
  },
  {
   "cell_type": "markdown",
   "id": "151e3f62",
   "metadata": {},
   "source": [
    "**Si hay un caracter distinto a + -**"
   ]
  },
  {
   "cell_type": "code",
   "execution_count": 19,
   "id": "4c95ad4c",
   "metadata": {},
   "outputs": [
    {
     "name": "stdout",
     "output_type": "stream",
     "text": [
      "Error: Operator must be '+' or '-'.\n"
     ]
    }
   ],
   "source": [
    "for e in inp1:\n",
    "    li = re.findall(\"[*/]\",e)\n",
    "    if len(li) > 0:\n",
    "        print(\"Error: Operator must be '+' or '-'.\")"
   ]
  },
  {
   "cell_type": "markdown",
   "id": "d226a32e",
   "metadata": {},
   "source": [
    "**Si hay un valor no numerico**"
   ]
  },
  {
   "cell_type": "code",
   "execution_count": null,
   "id": "b87c6163",
   "metadata": {},
   "outputs": [],
   "source": [
    "for e in inp2:\n",
    "    li = re.findall(\"[^0-9\\s+-]\\S*\",e)\n",
    "    print(li)"
   ]
  },
  {
   "cell_type": "markdown",
   "id": "7f20801f",
   "metadata": {},
   "source": [
    "**Si el largo es mayor a 4**"
   ]
  },
  {
   "cell_type": "code",
   "execution_count": null,
   "id": "20aa41e3",
   "metadata": {},
   "outputs": [],
   "source": [
    "for e in inp3: \n",
    "    li = re.findall(\"[0-9]\\S*\",e)\n",
    "    print(li)\n",
    "    for n in li:\n",
    "        if len(n)>4:\n",
    "            print(\"Error: Numbers cannot be more than four digits.\")"
   ]
  },
  {
   "cell_type": "markdown",
   "id": "174ab385",
   "metadata": {},
   "source": [
    "**Dibujando**"
   ]
  },
  {
   "cell_type": "code",
   "execution_count": null,
   "id": "1755db93",
   "metadata": {},
   "outputs": [],
   "source": [
    "for e in inp:\n",
    "    #Definiendo variables\n",
    "    e = e.split()\n",
    "    numUp = e[0]\n",
    "    oper = e[1]\n",
    "    numDw = e[2]\n",
    "\n",
    "    if oper == \"+\":\n",
    "        res = str(int(numUp) + int(numDw))\n",
    "    elif oper == \"-\":\n",
    "        res = str(int(numUp) - int(numDw))\n",
    " \n",
    "    #print(e)\n",
    "    #print(numUp,oper,numDw, suma)\n",
    "    #print(\"\")\n",
    "    \n",
    "    largo = max(len(numUp),len(numDw))+2\n",
    "    line=\"\"\n",
    "    for l in range(0,largo):\n",
    "        line+=\"-\"\n",
    "    \n",
    "    #Dibujando\n",
    "    dif = abs((len(numUp)-len(numDw)))\n",
    "    if len(numUp) > len(numDw):\n",
    "        resu = f\"  {numUp}\\n{oper} {numDw.rjust(len(numUp))}\\n{line}\\n  {res}\"\n",
    "        print(resu)\n",
    "        print(\"\")\n",
    "        \n",
    "    elif len(numUp) < len(numDw):\n",
    "        if int(res)>0:\n",
    "            resu = f\"  {numUp.rjust(len(numDw))}\\n{oper} {numDw}\\n{line}\\n  {res}\"\n",
    "            print(resu)\n",
    "            print(\"\")\n",
    "        else:\n",
    "            resu = f\"  {numUp.rjust(len(numDw))}\\n{oper} {numDw}\\n{line}\\n {res}\"\n",
    "            print(resu)\n",
    "            print(\"\")                \n",
    "    \n",
    "    else:\n",
    "        resu = f\"  {numUp}\\n{oper} {numDw}\\n{line}\\n  {res}\"\n",
    "        print(resu)\n",
    "        print(\"\")\n",
    "    \n"
   ]
  },
  {
   "cell_type": "markdown",
   "id": "1463b2e2",
   "metadata": {},
   "source": [
    "**Dibujando 2**"
   ]
  },
  {
   "cell_type": "code",
   "execution_count": null,
   "id": "b17cee75",
   "metadata": {},
   "outputs": [],
   "source": [
    "fline=\"\"\n",
    "sline=\"\"\n",
    "tline=\"\"\n",
    "cline=\"\"\n",
    "for e in inp:\n",
    "    #Definiendo variables    \n",
    "    e = e.split()\n",
    "    numUp = e[0]\n",
    "    oper = e[1]\n",
    "    numDw = e[2]\n",
    "    \n",
    "    if oper == \"+\":\n",
    "        res = str(int(numUp) + int(numDw))\n",
    "    elif oper == \"-\":\n",
    "        res = str(int(numUp) - int(numDw))\n",
    "    \n",
    "    #Definimos la linea\n",
    "    largo = max(len(numUp),len(numDw))\n",
    "    line=\"\"\n",
    "    for l in range(0,largo+2):\n",
    "        line+=\"-\"\n",
    "    \n",
    "    #Ajustando el numerador y denominador\n",
    "    dif = abs((len(numUp)-len(numDw)))\n",
    "    if len(numUp) > len(numDw):\n",
    "        numDw= numDw.rjust(len(numUp))\n",
    "        \n",
    "    elif len(numUp) < len(numDw):\n",
    "        numUp= numUp.rjust(len(numDw))\n",
    "        \n",
    "    #Creamos las lineas de texto\n",
    "    if oper == \"+\":\n",
    "        if len(fline)==0 and len(sline)==0 and len(tline)==0 and len(cline)==0:\n",
    "            fline = f\"  {numUp}\"  \n",
    "            sline = f\"{oper} {numDw}\"\n",
    "            tline = f\"{line}\"\n",
    "            cline = f\"{res.rjust(len(line))}\"\n",
    "        else:\n",
    "            fline = f\"{fline}      {numUp}\"  \n",
    "            sline = f\"{sline}    {oper} {numDw}\"\n",
    "            tline = f\"{tline}    {line}\"\n",
    "            cline = f\"{cline}    {res.rjust(len(line))}\"\n",
    "    \n",
    "    elif oper == \"-\":\n",
    "        if int(res)>0:\n",
    "            if len(fline)==0 and len(sline)==0 and len(tline)==0 and len(cline)==0:\n",
    "                fline = f\"  {numUp}\"  \n",
    "                sline = f\"{oper} {numDw}\"\n",
    "                tline = f\"{line}\"\n",
    "                cline = f\"{res.rjust(len(line))}\"\n",
    "            else:\n",
    "                fline = f\"{fline}      {numUp}\"  \n",
    "                sline = f\"{sline}    {oper} {numDw}\"\n",
    "                tline = f\"{tline}    {line}\"\n",
    "                cline = f\"{cline}    {res.rjust(len(line))}\"\n",
    "        else:\n",
    "            if len(fline)==0 and len(sline)==0 and len(tline)==0 and len(cline)==0:\n",
    "                fline = f\"  {numUp}\"  \n",
    "                sline = f\"{oper} {numDw}\"\n",
    "                tline = f\"{line}\"\n",
    "                cline = f\"{res.rjust(len(line))}\"\n",
    "            else:\n",
    "                fline = f\"{fline}      {numUp}\"  \n",
    "                sline = f\"{sline}    {oper} {numDw}\"\n",
    "                tline = f\"{tline}    {line}\"\n",
    "                cline = f\"{cline}    {res.rjust(len(line))}\"\n",
    "            \n",
    "        \n",
    "print(f\"{fline}\\n{sline}\\n{tline}\\n{cline}\")"
   ]
  },
  {
   "cell_type": "markdown",
   "id": "70932673-861b-47b5-81bb-1732f0d1e916",
   "metadata": {},
   "source": [
    "**Funcion**"
   ]
  },
  {
   "cell_type": "code",
   "execution_count": 68,
   "id": "23a14d23",
   "metadata": {},
   "outputs": [],
   "source": [
    "def ar(valores, boton = False):\n",
    "    import re\n",
    "    fline=\"\"\n",
    "    sline=\"\"\n",
    "    tline=\"\"\n",
    "    cline=\"\"\n",
    "    if len(valores)>5:\n",
    "        return \"Error: Too many problems.\"\n",
    "    for e in valores:\n",
    "        li = re.findall(\"[*/]\",e)\n",
    "        if len(li)>0:\n",
    "            return \"Error: Operator must be '+' or '-'.\"\n",
    "        \n",
    "        li = re.findall(\"[^0-9\\s+-]\\S*\",e)\n",
    "        if len(li)>0:\n",
    "            return \"Error: Numbers must only contain digits.\"\n",
    "        \n",
    "        li = re.findall(\"[0-9]\\S*\",e)\n",
    "        for n in li:\n",
    "            if len(n)>4:\n",
    "                return \"Error: Numbers cannot be more than four digits.\"\n",
    "        \n",
    "        #Definiendo variables\n",
    "        e = e.split()\n",
    "        numUp = e[0]\n",
    "        oper = e[1]\n",
    "        numDw = e[2]\n",
    "\n",
    "        if oper == \"+\":\n",
    "            res = str(int(numUp) + int(numDw))\n",
    "        elif oper == \"-\":\n",
    "            res = str(int(numUp) - int(numDw))\n",
    "\n",
    "        #Definimos la linea\n",
    "        largo = max(len(numUp),len(numDw))\n",
    "        line=\"\"\n",
    "        for l in range(0,largo+2):\n",
    "            line+=\"-\"\n",
    "\n",
    "        #Ajustando el numerador y denominador\n",
    "        if len(numUp) > len(numDw):\n",
    "            numDw= numDw.rjust(len(numUp))\n",
    "\n",
    "        elif len(numUp) < len(numDw):\n",
    "            numUp= numUp.rjust(len(numDw))\n",
    "\n",
    "        #Creamos las lineas de texto\n",
    "        if oper == \"+\":\n",
    "            if len(fline)==0 and len(sline)==0 and len(tline)==0 and len(cline)==0:\n",
    "                fline = f\"  {numUp}\"  \n",
    "                sline = f\"{oper} {numDw}\"\n",
    "                tline = f\"{line}\"\n",
    "                if boton is True:cline = f\"{res.rjust(len(line))}\"\n",
    "            else:\n",
    "                fline = f\"{fline}      {numUp}\"  \n",
    "                sline = f\"{sline}    {oper} {numDw}\"\n",
    "                tline = f\"{tline}    {line}\"\n",
    "                if boton is True: cline = f\"{cline}    {res.rjust(len(line))}\"\n",
    "\n",
    "        elif oper == \"-\":\n",
    "            if int(res)>0:\n",
    "                if len(fline)==0 and len(sline)==0 and len(tline)==0 and len(cline)==0:\n",
    "                    fline = f\"  {numUp}\"  \n",
    "                    sline = f\"{oper} {numDw}\"\n",
    "                    tline = f\"{line}\"\n",
    "                    if boton is True: cline = f\"{res.rjust(len(line))}\"\n",
    "                else:\n",
    "                    fline = f\"{fline}      {numUp}\"  \n",
    "                    sline = f\"{sline}    {oper} {numDw}\"\n",
    "                    tline = f\"{tline}    {line}\"\n",
    "                    if boton is True: cline = f\"{cline}    {res.rjust(len(line))}\"\n",
    "            else:\n",
    "                if len(fline)==0 and len(sline)==0 and len(tline)==0 and len(cline)==0:\n",
    "                    fline = f\"  {numUp}\"  \n",
    "                    sline = f\"{oper} {numDw}\"\n",
    "                    tline = f\"{line}\"\n",
    "                    if boton is True: cline = f\"{res.rjust(len(line))}\"\n",
    "                else:\n",
    "                    fline = f\"{fline}      {numUp}\"  \n",
    "                    sline = f\"{sline}    {oper} {numDw}\"\n",
    "                    tline = f\"{tline}    {line}\"\n",
    "                    if boton is True: cline = f\"{cline}    {res.rjust(len(line))}\"\n",
    "    if boton is True:\n",
    "        return f\"{fline}\\n{sline}\\n{tline}\\n{cline}\"\n",
    "    else:\n",
    "        return f\"{fline}\\n{sline}\\n{tline}\""
   ]
  },
  {
   "cell_type": "code",
   "execution_count": 73,
   "id": "6ec2b3be-3888-4cb6-b53e-d2e8fa8fdc7f",
   "metadata": {},
   "outputs": [
    {
     "name": "stdout",
     "output_type": "stream",
     "text": [
      "Error: Too many problems.\n"
     ]
    }
   ],
   "source": [
    "print(ar([\"44 + 815\", \"909 - 2\", \"45 + 43\", \"123 + 49\", \"888 + 40\", \"653 + 87\"]))"
   ]
  },
  {
   "cell_type": "markdown",
   "id": "3d984dd4-de4b-416f-abcd-ccddf3f46258",
   "metadata": {},
   "source": [
    "## Lo que aprendí\n",
    "Si a una sentencia if le declaramos un valor verdadero se cumplira y retornara lo que le declaremos "
   ]
  },
  {
   "cell_type": "raw",
   "id": "88930208-ce0e-4fef-82ec-d58864e19027",
   "metadata": {},
   "source": [
    "ej:\n",
    "if (re.findall(\"[0-9]\",variable)):\n",
    "    print(\"Existen numeros en la variable\")"
   ]
  }
 ],
 "metadata": {
  "kernelspec": {
   "display_name": "Python 3",
   "language": "python",
   "name": "python3"
  },
  "language_info": {
   "codemirror_mode": {
    "name": "ipython",
    "version": 3
   },
   "file_extension": ".py",
   "mimetype": "text/x-python",
   "name": "python",
   "nbconvert_exporter": "python",
   "pygments_lexer": "ipython3",
   "version": "3.8.5"
  }
 },
 "nbformat": 4,
 "nbformat_minor": 5
}
