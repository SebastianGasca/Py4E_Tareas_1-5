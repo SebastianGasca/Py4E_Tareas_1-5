{
 "cells": [
  {
   "cell_type": "markdown",
   "id": "3ebc8efc-d2a4-43c1-99be-8dae26117a8e",
   "metadata": {},
   "source": [
    "## Recordando POO"
   ]
  },
  {
   "cell_type": "markdown",
   "id": "992c6867-a699-45bc-aec5-c286b0c3c4a7",
   "metadata": {},
   "source": [
    " lo mas escencial de la POO son las clases que dan vida a los objetos. "
   ]
  },
  {
   "cell_type": "code",
   "execution_count": 12,
   "id": "f7efa419-1852-458f-93ed-3b8d278f0918",
   "metadata": {},
   "outputs": [],
   "source": [
    "#el nombre de la case debe comenzar con mayuscula\n",
    "class Auto:\n",
    "    marca = ''\n",
    "    modelo = 2004\n",
    "    placa = ''\n",
    "taxi = Auto()"
   ]
  },
  {
   "cell_type": "markdown",
   "id": "94cb05b2-e408-4502-a9c4-4683d7452718",
   "metadata": {},
   "source": [
    "En el caso de arriba definimos una clase con diferentes atributos. Luego le dimos esas caracteristicas a la variable taxi. En este caso creamos el objeto taxi. De todas formas como la clase Auto tiene solo parametros predefinidos todos los objetos creados por esta clase seran iguales. "
   ]
  },
  {
   "cell_type": "code",
   "execution_count": 60,
   "id": "78f9fe38-4feb-4002-8f98-e28b86cd67f5",
   "metadata": {},
   "outputs": [
    {
     "name": "stdout",
     "output_type": "stream",
     "text": [
      "100\n",
      "\n"
     ]
    }
   ],
   "source": [
    "#ejemplo 1\n",
    "#nota: no se llama con parentesis al final del motodo - ej: taxi.modelo() da error, esto es debido a que estamos llamando a un parametro, no un metodo\n",
    "print(taxi.modelo)\n",
    "print(taxi.placa)"
   ]
  },
  {
   "cell_type": "code",
   "execution_count": 61,
   "id": "fe95bee4-3f7f-4bbf-9b8d-e8001c86bec9",
   "metadata": {},
   "outputs": [],
   "source": [
    "#ejemplo 2\n",
    "class Persona:\n",
    "    doctor = 'victor'"
   ]
  },
  {
   "cell_type": "code",
   "execution_count": 23,
   "id": "bdd466dd-1038-4a87-bfa1-2ef157bf656e",
   "metadata": {},
   "outputs": [
    {
     "data": {
      "text/plain": [
       "'victor'"
      ]
     },
     "execution_count": 23,
     "metadata": {},
     "output_type": "execute_result"
    }
   ],
   "source": [
    "persona.doctor"
   ]
  },
  {
   "cell_type": "markdown",
   "id": "0d44a3d5-76da-4c8c-b74e-84b8e593e20b",
   "metadata": {},
   "source": [
    "---"
   ]
  },
  {
   "cell_type": "markdown",
   "id": "9c1f8bf4-e333-48d5-8194-e0d8b5e472a2",
   "metadata": {},
   "source": [
    "En los ejemplos anteriores los atributos como: marca, modelo, placa, doctor, terminaron por definir un objeto de la clase `Auto` o `Persona`, ya que a cada atributo le asignamos un valor constante. Normalmente esto no se hace asi. Se definen los objetos por fuera de la clase."
   ]
  },
  {
   "cell_type": "code",
   "execution_count": 31,
   "id": "2d8d9949-bb65-4d15-96b5-7d848e800004",
   "metadata": {},
   "outputs": [],
   "source": [
    "class nombre:\n",
    "    pass"
   ]
  },
  {
   "cell_type": "code",
   "execution_count": 32,
   "id": "75e55af4-7e47-4c62-8ca3-d37b0f036321",
   "metadata": {},
   "outputs": [],
   "source": [
    "#cramos el objeto victor de clase nombre()\n",
    "victor = nombre()"
   ]
  },
  {
   "cell_type": "code",
   "execution_count": 62,
   "id": "ca89f896-8688-465d-bace-c8f998329805",
   "metadata": {},
   "outputs": [],
   "source": [
    "#NOTA: por ejemplo: listas y los diccionarios son clases internas de python. \n",
    "lista = list()"
   ]
  },
  {
   "cell_type": "markdown",
   "id": "ced626b0-16f9-4b2f-9662-a0d4b6c4ed30",
   "metadata": {},
   "source": [
    "Ahora podemos agregar atributos para cada objeto creado. "
   ]
  },
  {
   "cell_type": "code",
   "execution_count": 36,
   "id": "dd47cddf-e2ad-4f20-83b7-91322b556ec5",
   "metadata": {},
   "outputs": [],
   "source": [
    "victor.edad = 30\n",
    "victor.genero = 'F'"
   ]
  },
  {
   "cell_type": "code",
   "execution_count": 35,
   "id": "12eaf3db-eed4-4626-80b0-e560b7112ca0",
   "metadata": {},
   "outputs": [
    {
     "data": {
      "text/plain": [
       "30"
      ]
     },
     "execution_count": 35,
     "metadata": {},
     "output_type": "execute_result"
    }
   ],
   "source": [
    "victor.edad"
   ]
  },
  {
   "cell_type": "markdown",
   "id": "f8c5245e-863a-4cfb-83ca-2fee4f4f3877",
   "metadata": {},
   "source": [
    "---"
   ]
  },
  {
   "cell_type": "markdown",
   "id": "00ec3b16-1477-4b4b-8026-a488cb151cce",
   "metadata": {},
   "source": [
    "### Metodos\n",
    "\n",
    "Los metodos son una 'funcion'' dentro de una clase. Define una accion o comportamiento dentro de la clase.\n",
    "\n",
    "Dentro de un metodo definimos un metodo con la palabra reservada `def` nombre(`self`). \n",
    "\n",
    "La palabra `self` hacer referencia al objeto con el cual vamos a trabajar. Por lo mismo, se definen los siguientes valores siempre seguidos de `self`, por ejemplo de manera generica tenemos **`self`.NombreVariable = Algoritmo**.  \n",
    "\n",
    "Podemos definir un metodo de la siguiente manera."
   ]
  },
  {
   "cell_type": "code",
   "execution_count": 63,
   "id": "0fc304f7-1a5e-4eeb-9c8c-caee16b17f13",
   "metadata": {},
   "outputs": [],
   "source": [
    "#Definimos la clase Matematicas con su metodo de suma()\n",
    "class Matematicas:\n",
    "    #donde se definene los atributos\n",
    "    pass \n",
    "    #donde se definene los metodos\n",
    "    def suma(self):\n",
    "        self.n1 = 2\n",
    "        self.n2 = 4"
   ]
  },
  {
   "cell_type": "code",
   "execution_count": 64,
   "id": "533c02ee-2d96-4922-99a4-606a84b8e73a",
   "metadata": {},
   "outputs": [],
   "source": [
    "#creamos el objeto calculo\n",
    "calculo = Matematicas()"
   ]
  },
  {
   "cell_type": "code",
   "execution_count": 67,
   "id": "6c588f27-8801-4779-8c9e-17625c82bf80",
   "metadata": {},
   "outputs": [],
   "source": [
    "#llamamos/sentenciamos al metodo\n",
    "calculo.suma()"
   ]
  },
  {
   "cell_type": "code",
   "execution_count": 66,
   "id": "13e015ec-1202-43b0-9ac9-3690e95243fc",
   "metadata": {},
   "outputs": [
    {
     "data": {
      "text/plain": [
       "6"
      ]
     },
     "execution_count": 66,
     "metadata": {},
     "output_type": "execute_result"
    }
   ],
   "source": [
    "#Ahora nos apareceran los valores del metodo suma()\n",
    "calculo.n1 + calculo.n2"
   ]
  },
  {
   "cell_type": "markdown",
   "id": "ef736fb1-df1b-4fe4-85e9-4e001f4d9ce1",
   "metadata": {},
   "source": [
    "En el ejemplo anterior tuvimos que hacer una secuencia de pasos para llamar y utilizar el metodo suma(). \n",
    "   * definimos la clase, \n",
    "   * creamos el objeto, \n",
    "   * convocamos el metodo y luego pudimos aplicar los algoritmos del metodo.\n",
    "   \n",
    "Hay formas mejores para llamar y aplicar metodos"
   ]
  },
  {
   "cell_type": "markdown",
   "id": "17db9a60-5ae2-4865-add8-242ee305b4ea",
   "metadata": {},
   "source": [
    "### Metodos : `__init__`"
   ]
  },
  {
   "cell_type": "markdown",
   "id": "fa428683-0677-470d-8c4b-07127dc9e6ea",
   "metadata": {},
   "source": [
    "El metodo `__init__` cumple una funcion de constructor dentro de la clase (hay varios constructores). \n",
    "\n",
    "En el siguiente ejemplo definimos por simplicidad atributos dentro de nuestro metodo/constructor `__init__`"
   ]
  },
  {
   "cell_type": "code",
   "execution_count": 75,
   "id": "1276fea4-e6b5-4cf4-9a56-5147b3bc875e",
   "metadata": {},
   "outputs": [],
   "source": [
    "class Ropa:\n",
    "    pass\n",
    "    def __init__(self):\n",
    "        self.marca = 'willow'\n",
    "        self.talla = 'M'"
   ]
  },
  {
   "cell_type": "code",
   "execution_count": 76,
   "id": "324f3fc1-8753-4d10-a481-27aec9c2bada",
   "metadata": {},
   "outputs": [],
   "source": [
    "polera = Ropa()"
   ]
  },
  {
   "cell_type": "code",
   "execution_count": 77,
   "id": "714c1364-3c7f-4ac8-9c51-77aadd9a87a3",
   "metadata": {},
   "outputs": [
    {
     "data": {
      "text/plain": [
       "'willow'"
      ]
     },
     "execution_count": 77,
     "metadata": {},
     "output_type": "execute_result"
    }
   ],
   "source": [
    "polera.marca"
   ]
  },
  {
   "cell_type": "markdown",
   "id": "703e9bfe-895f-4184-8d74-fef781f82dd3",
   "metadata": {},
   "source": [
    "Ahora definiremos algortimos dentro de nuestro metodo/constructor `__init__` (algo un poco mas real). \n",
    "\n",
    "Para trabajar con algoritmos es necesario poseer variables dentro del mismo metodo/constructor, por lo tanto, en nuestro metodo aparte del parametro `self` hay que agregar los parametros necesarios que se usaran. "
   ]
  },
  {
   "cell_type": "code",
   "execution_count": 81,
   "id": "422815c0-f9d1-4ae2-ac9d-a590e856148f",
   "metadata": {},
   "outputs": [],
   "source": [
    "class Calculadora:\n",
    "    pass\n",
    "    def __init__(self, n1 ,n2):\n",
    "        self.suma = n1 + n2\n",
    "        self.resta = n1 - n2\n",
    "        self.producto = n1 * n2"
   ]
  },
  {
   "cell_type": "markdown",
   "id": "0abc82f0-2df5-4644-b7da-7843024f8ae2",
   "metadata": {},
   "source": [
    "Ahora para definir un objeto en funcion de la clase `Calculadora` es necesario ingresar los parametros que exige la clase, en nuestro caso n1 y n2"
   ]
  },
  {
   "cell_type": "code",
   "execution_count": 87,
   "id": "1927106c-8347-40b0-9db8-1a1705d588da",
   "metadata": {},
   "outputs": [],
   "source": [
    "operacion = Calculadora(3,7)"
   ]
  },
  {
   "cell_type": "code",
   "execution_count": 88,
   "id": "bfa8ab35-eec5-401d-ae0d-0abe516e9ac8",
   "metadata": {},
   "outputs": [
    {
     "data": {
      "text/plain": [
       "10"
      ]
     },
     "execution_count": 88,
     "metadata": {},
     "output_type": "execute_result"
    }
   ],
   "source": [
    "operacion.suma"
   ]
  },
  {
   "cell_type": "code",
   "execution_count": 90,
   "id": "99afcb8c-c4db-44db-a079-bcb20bdbf925",
   "metadata": {},
   "outputs": [
    {
     "data": {
      "text/plain": [
       "-4"
      ]
     },
     "execution_count": 90,
     "metadata": {},
     "output_type": "execute_result"
    }
   ],
   "source": [
    "operacion.resta"
   ]
  },
  {
   "cell_type": "markdown",
   "id": "a71ae339-4c02-4352-a847-227453b32eb9",
   "metadata": {},
   "source": [
    "---"
   ]
  },
  {
   "cell_type": "markdown",
   "id": "84ab9031-d9a2-4870-b957-ea8d593da9b4",
   "metadata": {},
   "source": [
    "### Funciones de atributos "
   ]
  },
  {
   "cell_type": "markdown",
   "id": "caa66992-c95d-439f-8127-7e369f4a1e42",
   "metadata": {},
   "source": [
    "Las funciones de atributos sirven para poder trabajar con los atributos de una clase. \n",
    "\n",
    "Algunas funciones comunes son:"
   ]
  },
  {
   "cell_type": "code",
   "execution_count": 154,
   "id": "4267f96d-6018-4604-98ec-f469b4d3f57f",
   "metadata": {},
   "outputs": [],
   "source": [
    "class Persona:\n",
    "    edad = 27\n",
    "    nombre = 'seba'"
   ]
  },
  {
   "cell_type": "code",
   "execution_count": 155,
   "id": "4e1bebb7-b8ec-4dd1-8fea-14230b63f6fe",
   "metadata": {},
   "outputs": [],
   "source": [
    "p1 = Persona() "
   ]
  },
  {
   "cell_type": "markdown",
   "id": "f52bbf68-0a5f-4330-9421-3623ca5e2314",
   "metadata": {},
   "source": [
    "**Obtener el valor del atributo de una clase o objeto**"
   ]
  },
  {
   "cell_type": "code",
   "execution_count": 156,
   "id": "921018c7-8c30-46f3-9528-cdfc72b1dddc",
   "metadata": {},
   "outputs": [
    {
     "data": {
      "text/plain": [
       "27"
      ]
     },
     "execution_count": 156,
     "metadata": {},
     "output_type": "execute_result"
    }
   ],
   "source": [
    "#Clase\n",
    "getattr(Persona, 'edad')"
   ]
  },
  {
   "cell_type": "code",
   "execution_count": 157,
   "id": "d896af5c-423e-4822-bc9c-66286c5809b2",
   "metadata": {},
   "outputs": [
    {
     "data": {
      "text/plain": [
       "27"
      ]
     },
     "execution_count": 157,
     "metadata": {},
     "output_type": "execute_result"
    }
   ],
   "source": [
    "#Objeto\n",
    "getattr(p1, 'edad')"
   ]
  },
  {
   "cell_type": "markdown",
   "id": "4a27d97b-fc89-40a0-ba9b-4796d62ef12d",
   "metadata": {},
   "source": [
    "**Saber si un atributo pertenece a una clase o objeto**"
   ]
  },
  {
   "cell_type": "code",
   "execution_count": 108,
   "id": "e2af33ea-e2e2-4b05-9653-dc13148e676b",
   "metadata": {},
   "outputs": [
    {
     "data": {
      "text/plain": [
       "True"
      ]
     },
     "execution_count": 108,
     "metadata": {},
     "output_type": "execute_result"
    }
   ],
   "source": [
    "#Clase\n",
    "hasattr(Persona, 'edad')"
   ]
  },
  {
   "cell_type": "code",
   "execution_count": 112,
   "id": "86920148-1942-4513-adbb-823a2b8659e6",
   "metadata": {},
   "outputs": [
    {
     "name": "stdout",
     "output_type": "stream",
     "text": [
      "True\n",
      "False\n"
     ]
    }
   ],
   "source": [
    "#Objeto\n",
    "print(hasattr(p1, 'edad'))\n",
    "print(hasattr(p1, 'apellido'))"
   ]
  },
  {
   "cell_type": "markdown",
   "id": "65ce63fc-6d6b-4cdf-b028-517ade80c6c6",
   "metadata": {},
   "source": [
    "**Definir un valor nuevo a un atributo a una clase o objeto**"
   ]
  },
  {
   "cell_type": "code",
   "execution_count": 129,
   "id": "97e82ee0-bba8-46fc-80b6-364810f2cf95",
   "metadata": {},
   "outputs": [
    {
     "data": {
      "text/plain": [
       "28"
      ]
     },
     "execution_count": 129,
     "metadata": {},
     "output_type": "execute_result"
    }
   ],
   "source": [
    "#Clase\n",
    "setattr(Persona, 'edad', 28)\n",
    "p2 = Persona()\n",
    "p2.edad"
   ]
  },
  {
   "cell_type": "code",
   "execution_count": 127,
   "id": "4eeb3b1e-2f49-4221-9118-f618dc007f34",
   "metadata": {},
   "outputs": [
    {
     "data": {
      "text/plain": [
       "28"
      ]
     },
     "execution_count": 127,
     "metadata": {},
     "output_type": "execute_result"
    }
   ],
   "source": [
    "p1.edad"
   ]
  },
  {
   "cell_type": "code",
   "execution_count": 130,
   "id": "94b1b79e-0712-4730-9e61-5968a63d37fc",
   "metadata": {},
   "outputs": [],
   "source": [
    "#Objetos\n",
    "setattr(p1, 'edad', 31)"
   ]
  },
  {
   "cell_type": "code",
   "execution_count": 131,
   "id": "70d365b2-dd4c-4259-85d4-cf6b659e550a",
   "metadata": {},
   "outputs": [
    {
     "data": {
      "text/plain": [
       "31"
      ]
     },
     "execution_count": 131,
     "metadata": {},
     "output_type": "execute_result"
    }
   ],
   "source": [
    "p1.edad"
   ]
  },
  {
   "cell_type": "markdown",
   "id": "3c7f8715-c479-4fd9-85ac-4a056a45d3bb",
   "metadata": {},
   "source": [
    "**Eliminar un atributo de una clase**"
   ]
  },
  {
   "cell_type": "code",
   "execution_count": 144,
   "id": "6e2230a9-b4c8-411d-8b01-9498a005e08e",
   "metadata": {},
   "outputs": [],
   "source": [
    "delattr(Persona, 'edad')"
   ]
  },
  {
   "cell_type": "code",
   "execution_count": 146,
   "id": "aba67b49-d930-49d9-8a84-b52134405a3e",
   "metadata": {},
   "outputs": [
    {
     "ename": "AttributeError",
     "evalue": "'Persona' object has no attribute 'edad'",
     "output_type": "error",
     "traceback": [
      "\u001b[1;31m---------------------------------------------------------------------------\u001b[0m",
      "\u001b[1;31mAttributeError\u001b[0m                            Traceback (most recent call last)",
      "Cell \u001b[1;32mIn [146], line 1\u001b[0m\n\u001b[1;32m----> 1\u001b[0m \u001b[43mp1\u001b[49m\u001b[38;5;241;43m.\u001b[39;49m\u001b[43medad\u001b[49m\n",
      "\u001b[1;31mAttributeError\u001b[0m: 'Persona' object has no attribute 'edad'"
     ]
    }
   ],
   "source": [
    "p1.edad"
   ]
  },
  {
   "cell_type": "markdown",
   "id": "51d73206-19db-4ea6-85d7-ca0febf3dbd9",
   "metadata": {},
   "source": [
    "A pesar de que eliminamos el atributo de la clase y no del objeto, el objeto no es capaz de llamar su atributo `edad` preestablecido dado que eliminamos el atributo `edad` de la clase `Persona`."
   ]
  },
  {
   "cell_type": "markdown",
   "id": "4e9684e3-a5a3-403d-b368-ecb781036f13",
   "metadata": {},
   "source": [
    "---"
   ]
  },
  {
   "cell_type": "markdown",
   "id": "32f12a55-b22d-46d7-93f5-c20355fda74e",
   "metadata": {},
   "source": [
    "### Conceptos: Class and Instance variables"
   ]
  },
  {
   "cell_type": "markdown",
   "id": "1e669848-c6bb-4b3f-a387-2249cec3b813",
   "metadata": {},
   "source": [
    "Las variables de clase o de instancia dependen de donde se definan. \n",
    "\n",
    "* **variables de clases**: son declaradas dentro de la clase, pero fuera de algun metodo. Son compartidas por todos los objetos creados por la clase\n",
    "* **variables de instancia**: son declaradas dentro de un metodo, por lo mismo son particulares de cada objeto."
   ]
  },
  {
   "cell_type": "code",
   "execution_count": 158,
   "id": "e785699c-111f-4795-8f97-557de791d795",
   "metadata": {},
   "outputs": [],
   "source": [
    "class Car:\n",
    "    ruedas = 4 # <- variable de clase\n",
    "    def __init__(self, nombre):\n",
    "        self.nombre = nombre  #<- variable de instancia"
   ]
  },
  {
   "cell_type": "code",
   "execution_count": 159,
   "id": "480c9943-1237-4248-bc7b-395fab833acc",
   "metadata": {},
   "outputs": [],
   "source": [
    "jag = Car('jaguar')\n",
    "fer = Car('ferrari')"
   ]
  },
  {
   "cell_type": "code",
   "execution_count": 163,
   "id": "a544e794-8a01-4ffb-8af5-640ad224ceda",
   "metadata": {},
   "outputs": [
    {
     "data": {
      "text/plain": [
       "('jaguar', 'ferrari')"
      ]
     },
     "execution_count": 163,
     "metadata": {},
     "output_type": "execute_result"
    }
   ],
   "source": [
    "jag.nombre, fer.nombre"
   ]
  },
  {
   "cell_type": "code",
   "execution_count": 164,
   "id": "9c29b5c0-1f93-4b95-b25d-64e4ead8521e",
   "metadata": {},
   "outputs": [
    {
     "data": {
      "text/plain": [
       "(4, 4)"
      ]
     },
     "execution_count": 164,
     "metadata": {},
     "output_type": "execute_result"
    }
   ],
   "source": [
    "jag.ruedas, fer.ruedas"
   ]
  },
  {
   "cell_type": "code",
   "execution_count": 166,
   "id": "93575f24-f3e3-4d6e-93e9-38aa292fc09d",
   "metadata": {},
   "outputs": [
    {
     "data": {
      "text/plain": [
       "4"
      ]
     },
     "execution_count": 166,
     "metadata": {},
     "output_type": "execute_result"
    }
   ],
   "source": [
    "#podemos acceder a la variable de clase desde la misma clase\n",
    "Car.ruedas"
   ]
  },
  {
   "cell_type": "markdown",
   "id": "35187c29-b8f6-4406-9986-e4f5a652ec29",
   "metadata": {},
   "source": [
    "---"
   ]
  },
  {
   "cell_type": "markdown",
   "id": "0d02d9ae-97c9-48e5-b49b-384cbd472d7b",
   "metadata": {},
   "source": [
    "### Constructor"
   ]
  },
  {
   "cell_type": "markdown",
   "id": "362ba00f-3ee2-46d7-8b84-f9d316315377",
   "metadata": {},
   "source": [
    "Dentro del constructor `__init__` puedo definir variables de instancia que sirven para los metodos dentro de la clase "
   ]
  },
  {
   "cell_type": "code",
   "execution_count": 167,
   "id": "3c225bc2-c37e-4527-b950-0c6f968efb1c",
   "metadata": {},
   "outputs": [],
   "source": [
    "class Persona:\n",
    "    def __init__(self, nombre, ano):\n",
    "        self.nombre = nombre\n",
    "        self.ano = ano\n",
    "    def descripcion(self):\n",
    "        return '{} tiene {} años'.format(self.nombre, self.ano)\n",
    "    def comentario(self, frase):\n",
    "        return '{} dice: {}'.format(self.nombre, frase)"
   ]
  },
  {
   "cell_type": "code",
   "execution_count": 168,
   "id": "10a0608b-9ea0-49c1-9ec2-0383268b9b58",
   "metadata": {},
   "outputs": [],
   "source": [
    "persona = Persona('Andres', 27)"
   ]
  },
  {
   "cell_type": "code",
   "execution_count": 170,
   "id": "1d14d68b-c1ca-4857-a402-df641b96fa05",
   "metadata": {},
   "outputs": [
    {
     "data": {
      "text/plain": [
       "'Andres tiene 27 años'"
      ]
     },
     "execution_count": 170,
     "metadata": {},
     "output_type": "execute_result"
    }
   ],
   "source": [
    "persona.descripcion()"
   ]
  },
  {
   "cell_type": "code",
   "execution_count": 172,
   "id": "95e09fcf-83c9-4197-bb06-e06febb72ecb",
   "metadata": {},
   "outputs": [
    {
     "data": {
      "text/plain": [
       "'Andres dice: hola mundo'"
      ]
     },
     "execution_count": 172,
     "metadata": {},
     "output_type": "execute_result"
    }
   ],
   "source": [
    "persona.comentario('hola mundo')"
   ]
  },
  {
   "cell_type": "markdown",
   "id": "74c66d3d-3390-4e77-af89-10b91c2f01d8",
   "metadata": {},
   "source": [
    "**Modificar una variable de clase**"
   ]
  },
  {
   "cell_type": "code",
   "execution_count": 183,
   "id": "a82e591d-1b18-49b2-b3a0-66efc7f5f4a7",
   "metadata": {},
   "outputs": [],
   "source": [
    "class Email:\n",
    "    def __init__(self):\n",
    "        self.enviado = False\n",
    "    def enviar_correo(self):\n",
    "        self.enviado = True"
   ]
  },
  {
   "cell_type": "markdown",
   "id": "b8ba9e2e-86f5-42cb-9847-53c17805fbbb",
   "metadata": {},
   "source": [
    "En el ejemplo tenemos dos variable de clases iguales en diferentes metodos. Es posible modificar una con respecto a la otra"
   ]
  },
  {
   "cell_type": "code",
   "execution_count": 184,
   "id": "7067ced1-dfc7-468d-adee-42cf28b15a6c",
   "metadata": {},
   "outputs": [],
   "source": [
    "correo = Email()"
   ]
  },
  {
   "cell_type": "markdown",
   "id": "38e49025-c4ae-4576-96a9-358d2080f337",
   "metadata": {},
   "source": [
    "Desplegamos la variable de instancia `self.enviado` con el valor False"
   ]
  },
  {
   "cell_type": "code",
   "execution_count": 185,
   "id": "21d2ec87-21d7-4d90-b952-8728ede81fb9",
   "metadata": {},
   "outputs": [
    {
     "data": {
      "text/plain": [
       "False"
      ]
     },
     "execution_count": 185,
     "metadata": {},
     "output_type": "execute_result"
    }
   ],
   "source": [
    "correo.enviado"
   ]
  },
  {
   "cell_type": "markdown",
   "id": "ba97b16c-1f94-41d0-8d77-b31d5b5b02ea",
   "metadata": {},
   "source": [
    "Ejecutamos el metodo `enviar.correo()`, lo que hara"
   ]
  },
  {
   "cell_type": "code",
   "execution_count": 186,
   "id": "9ff5b1be-7662-4b73-bf68-60a34d05ba0c",
   "metadata": {},
   "outputs": [],
   "source": [
    "correo.enviar_correo()"
   ]
  },
  {
   "cell_type": "code",
   "execution_count": 187,
   "id": "99f758a5-35ce-4388-afa2-3edb2eaecc11",
   "metadata": {},
   "outputs": [
    {
     "data": {
      "text/plain": [
       "True"
      ]
     },
     "execution_count": 187,
     "metadata": {},
     "output_type": "execute_result"
    }
   ],
   "source": [
    "correo.enviado"
   ]
  },
  {
   "cell_type": "markdown",
   "id": "dbce362b-ad5e-49e6-9c9f-269ccb07876b",
   "metadata": {},
   "source": [
    "---"
   ]
  },
  {
   "cell_type": "markdown",
   "id": "765f51cd-f353-4987-8e77-3a8cd850b860",
   "metadata": {},
   "source": [
    "### Herencia"
   ]
  },
  {
   "cell_type": "markdown",
   "id": "629df070-021a-4b77-8ab8-8e2a499e9bb4",
   "metadata": {},
   "source": [
    "Consiste la posibilidad de crear una nueva clase a partir de una o mas clases existentes"
   ]
  },
  {
   "cell_type": "code",
   "execution_count": 72,
   "id": "d58172e4-1453-419b-9114-c696baf7aa51",
   "metadata": {},
   "outputs": [],
   "source": [
    "class Pokemon:\n",
    "    pass\n",
    "    def __init__(self, nombre, tipo):\n",
    "        self.nombre = nombre\n",
    "        self.tipo = tipo\n",
    "    def descripcion(self):\n",
    "        return f\"{self.nombre} es un pokemon de tipo: {self.tipo}\"        "
   ]
  },
  {
   "cell_type": "markdown",
   "id": "06c58439-a7a3-4618-8897-6de2be459a8f",
   "metadata": {},
   "source": [
    "Anteriormente solo hemos estado trabajando con una sola clase, en las cuales fuimos creando metodos que nos eran de utilidad. \n",
    "\n",
    "Ahora la idea es crear nuevas clases que sean dependiente de una **clase superior**. Para que una clase se hijo de otra (clase padre), es necesario agregar un parametro, que contenga el nombre de la clase padre."
   ]
  },
  {
   "cell_type": "code",
   "execution_count": 71,
   "id": "f729012e-f6a1-41f0-a58d-a363ac5c8730",
   "metadata": {},
   "outputs": [],
   "source": [
    "class Pikachu(Pokemon):\n",
    "    def ataque(self, tipoataque):\n",
    "        return f\"{self.nombre} uso ataque: {tipoataque}\""
   ]
  },
  {
   "cell_type": "markdown",
   "id": "77f4cd04-af32-422f-925b-5110ff9ff0ac",
   "metadata": {},
   "source": [
    "Para crear un objeto con la clase hijo `Pikachu()`, en este caso, dado que la clase Pikachu no posee un metodo `__init__`, es necesario ingresar los parametros necesarios para el uso de la clase padre `Pokemon()`"
   ]
  },
  {
   "cell_type": "code",
   "execution_count": 49,
   "id": "7ac86713-c474-497e-a467-e27c5a6ffec3",
   "metadata": {},
   "outputs": [],
   "source": [
    "pikachu = Pikachu('bob', 'electrico')"
   ]
  },
  {
   "cell_type": "markdown",
   "id": "0f2985a7-bf3a-4907-8689-802fc26c6301",
   "metadata": {},
   "source": [
    "Con el objeto creado, podemos utilizar los metodos definidos en la clase padre, como es el caso de `descripcion()`. Tambien podemos usar los metodos propios de la clase hijo, como `ataque()`"
   ]
  },
  {
   "cell_type": "code",
   "execution_count": 51,
   "id": "629ca2c9-c6ca-46dc-9b08-6da010b5d625",
   "metadata": {},
   "outputs": [
    {
     "data": {
      "text/plain": [
       "'bob es un pokemon de tipo: electrico'"
      ]
     },
     "execution_count": 51,
     "metadata": {},
     "output_type": "execute_result"
    }
   ],
   "source": [
    "pikachu.descripcion()"
   ]
  },
  {
   "cell_type": "code",
   "execution_count": 52,
   "id": "e1dea598-7881-43d3-acdc-a7616675c1d6",
   "metadata": {},
   "outputs": [
    {
     "data": {
      "text/plain": [
       "'bob uso ataque: impactrueno'"
      ]
     },
     "execution_count": 52,
     "metadata": {},
     "output_type": "execute_result"
    }
   ],
   "source": [
    "pikachu.ataque('impacto trueno')"
   ]
  },
  {
   "cell_type": "markdown",
   "id": "44c5dc1d-94ae-458c-9709-58f16e9058d4",
   "metadata": {},
   "source": [
    "---\n",
    "Practiquemos con otros ejemplo. \n",
    "\n",
    "Hagamos una calculadora.\n",
    "\n",
    "Primero crearemos una clase que contenga lo esencial de una calculadora, que es el obtener los numeros/datos que necesitamos para generar el calculo objetivo. En este caso es necesario establecer la cantidad de numeros en base al tipo de operacion que vamos hacer. "
   ]
  },
  {
   "cell_type": "code",
   "execution_count": 1,
   "id": "53d3cd70-5f1e-41b5-8ecf-5d7cd3a2d38b",
   "metadata": {},
   "outputs": [],
   "source": [
    "class Calculadora: \n",
    "    def __init__(self, numero):\n",
    "        #cantidad de numero en funcion de la operacion\n",
    "        self.n = numero \n",
    "        #lista que almacena los numeros en funcion a la cantidad maxima definida por la operacion\n",
    "        self.datos = [0 for i in range(numero)] \n",
    "    def ingresardatos(self):\n",
    "        #utilizamos la variable de instancia self.datos para almacenar los datos que ingresa el usuario \n",
    "        self.datos = [int( input(f'ingresar dato {i+1} = ') ) for i in range(self.n) ]"
   ]
  },
  {
   "cell_type": "markdown",
   "id": "b0f7a86c-e054-40fc-a184-88da02b90f8a",
   "metadata": {},
   "source": [
    "Vamos hacer algo distinto con las clases hijos con respecto al ejercicio anterior. En esta ocacion crearemos un metodo `__init__` dentro de la clase hijo, por lo tanto para poder usar los metodos de la clase padre debemos llamarlo explicitamente. De hecho, en caso de que sea necesario, podemos establecer los parametros por defecto de la clase padre. En este caso para la clase hijo `Ope_basicas()` dejaremos a la clase padre con parametro de numero = 2. \n",
    "\n",
    "Para hacer uso de la clase padre dentro de las variables de instancia de la clase hijo podemos `ClasePadre.__init__(self, * parametros)` sin asignarle ningun valor, solo convocamos "
   ]
  },
  {
   "cell_type": "code",
   "execution_count": 16,
   "id": "75c4f536-c3f9-46c1-8724-9b4b657f90d9",
   "metadata": {},
   "outputs": [],
   "source": [
    "class Ope_basicas(Calculadora):\n",
    "    def __init__(self):\n",
    "    #nuestra clase padre posee valor 2 para el parametro numero. \n",
    "        Calculadora.__init__(self,2)\n",
    "    def suma(self):\n",
    "        a,b = self.datos\n",
    "        return a + b\n",
    "    def resta(self):\n",
    "        a,b = self.datos\n",
    "        return a - b\n",
    "\n",
    "class Raiz(Calculadora):\n",
    "    def __init__(self):\n",
    "        Calculadora.__init__(self, 1)\n",
    "    def cuadrada(self):\n",
    "        import math\n",
    "        #ojo con la ',' al final de la variable para asegurar que es una tupla\n",
    "        a, = self.datos\n",
    "        return math.sqrt(a)  "
   ]
  },
  {
   "cell_type": "code",
   "execution_count": 17,
   "id": "89767a82-2fca-4e21-b1bc-99266f2633f7",
   "metadata": {},
   "outputs": [],
   "source": [
    "operacion = Ope_basicas()"
   ]
  },
  {
   "cell_type": "code",
   "execution_count": 18,
   "id": "76a4e41d-4167-4eaf-876e-ac10a62855b0",
   "metadata": {},
   "outputs": [
    {
     "name": "stdin",
     "output_type": "stream",
     "text": [
      "ingresar dato 1 =  5\n",
      "ingresar dato 2 =  8\n"
     ]
    }
   ],
   "source": [
    "operacion.ingresardatos()"
   ]
  },
  {
   "cell_type": "code",
   "execution_count": 19,
   "id": "5c650f0f-a3bb-481a-a77c-672e15d0f22b",
   "metadata": {},
   "outputs": [
    {
     "data": {
      "text/plain": [
       "13"
      ]
     },
     "execution_count": 19,
     "metadata": {},
     "output_type": "execute_result"
    }
   ],
   "source": [
    "operacion.suma()"
   ]
  },
  {
   "cell_type": "code",
   "execution_count": 20,
   "id": "25b16c67-70b8-491f-8ea9-fe02b245c241",
   "metadata": {},
   "outputs": [
    {
     "data": {
      "text/plain": [
       "-3"
      ]
     },
     "execution_count": 20,
     "metadata": {},
     "output_type": "execute_result"
    }
   ],
   "source": [
    "operacion.resta()"
   ]
  },
  {
   "cell_type": "code",
   "execution_count": 21,
   "id": "060e3145-32ce-4761-9b7a-c30577552423",
   "metadata": {},
   "outputs": [],
   "source": [
    "operacion = Raiz()"
   ]
  },
  {
   "cell_type": "code",
   "execution_count": 23,
   "id": "0edf421a-696d-4a33-b300-fe98659088a1",
   "metadata": {},
   "outputs": [
    {
     "name": "stdin",
     "output_type": "stream",
     "text": [
      "ingresar dato 1 =  8\n"
     ]
    }
   ],
   "source": [
    "operacion.ingresardatos()"
   ]
  },
  {
   "cell_type": "code",
   "execution_count": 24,
   "id": "de6a85e0-7f0f-4462-b36c-da37776631f9",
   "metadata": {},
   "outputs": [
    {
     "data": {
      "text/plain": [
       "2.8284271247461903"
      ]
     },
     "execution_count": 24,
     "metadata": {},
     "output_type": "execute_result"
    }
   ],
   "source": [
    "operacion.cuadrada()"
   ]
  },
  {
   "cell_type": "markdown",
   "id": "179f3db4-847a-44c1-ab33-2f3c5ae40632",
   "metadata": {},
   "source": [
    "---"
   ]
  },
  {
   "cell_type": "markdown",
   "id": "7ac6d6c7-3185-452c-b825-1b75cd2921e5",
   "metadata": {},
   "source": [
    "### Herencia: Funciones de prueba"
   ]
  },
  {
   "cell_type": "markdown",
   "id": "6a4287b1-6278-46e0-8967-b30b410ed675",
   "metadata": {},
   "source": [
    "Existen ciertas funciones que nos permiten saber si un objeto pertenece a un clase, o si una clase es subordinada de otra (clase padre). "
   ]
  },
  {
   "cell_type": "markdown",
   "id": "87d67397-aa9b-45bd-9a4b-5766e37de09d",
   "metadata": {},
   "source": [
    "Verificamos si un objeto pertenece a una clase en particular. "
   ]
  },
  {
   "cell_type": "code",
   "execution_count": 25,
   "id": "ade496e7-c518-4d48-8769-c340c8fdf12c",
   "metadata": {},
   "outputs": [],
   "source": [
    "operacion = Ope_basicas()"
   ]
  },
  {
   "cell_type": "code",
   "execution_count": 31,
   "id": "080aac96-5686-4b34-860f-807a231d0ded",
   "metadata": {},
   "outputs": [
    {
     "data": {
      "text/plain": [
       "True"
      ]
     },
     "execution_count": 31,
     "metadata": {},
     "output_type": "execute_result"
    }
   ],
   "source": [
    "#objeto operacion pertenece a la clase Ope_basicas?\n",
    "isinstance(operacion, Ope_basicas)"
   ]
  },
  {
   "cell_type": "code",
   "execution_count": 30,
   "id": "e18d5ec0-769b-4a5d-883a-8b80853b7591",
   "metadata": {},
   "outputs": [
    {
     "data": {
      "text/plain": [
       "False"
      ]
     },
     "execution_count": 30,
     "metadata": {},
     "output_type": "execute_result"
    }
   ],
   "source": [
    "#objeto operacion pertenece a la clase Raiz?\n",
    "isinstance(operacion, Raiz)"
   ]
  },
  {
   "cell_type": "markdown",
   "id": "bfe7c1f1-7ab5-4cdf-966d-86db2fd57802",
   "metadata": {},
   "source": [
    "Tambien podemos verificar si una clase es subordinada de otra."
   ]
  },
  {
   "cell_type": "code",
   "execution_count": 36,
   "id": "1cc482e7-c159-4092-9348-a41805ac59e1",
   "metadata": {},
   "outputs": [
    {
     "data": {
      "text/plain": [
       "True"
      ]
     },
     "execution_count": 36,
     "metadata": {},
     "output_type": "execute_result"
    }
   ],
   "source": [
    "#la clase Ope_basicas es subclase de Calculadora\n",
    "issubclass(Ope_basicas, Calculadora)"
   ]
  },
  {
   "cell_type": "markdown",
   "id": "5ac25903-5734-4bc4-bdcb-67a993d9e849",
   "metadata": {},
   "source": [
    "---"
   ]
  },
  {
   "cell_type": "markdown",
   "id": "79ffda99-deac-4359-b66b-775e3060b741",
   "metadata": {},
   "source": [
    "### Herencia: Multinivel "
   ]
  },
  {
   "cell_type": "markdown",
   "id": "f36d946f-4e23-4ba0-a9c2-b4ce66dd4234",
   "metadata": {},
   "source": [
    "La herencia de multinivel es la capacidad de relacionar o concadenar diferentes herencias en una o distintas clases"
   ]
  },
  {
   "cell_type": "markdown",
   "id": "43278c2d-a4ba-4bf6-9612-2e312d6753df",
   "metadata": {},
   "source": [
    "Vamos a definir varias clases, que hacen referencia a las funciones de un smartphone"
   ]
  },
  {
   "cell_type": "code",
   "execution_count": 37,
   "id": "246f3937-47b1-4f2d-adfc-dda4a24a0214",
   "metadata": {},
   "outputs": [],
   "source": [
    "class Telefono:\n",
    "    def __init__(self):\n",
    "        pass\n",
    "    def llamar(self):\n",
    "        print('llamando ..')\n",
    "    def ocupado(self):\n",
    "        print('ocupado ...')\n",
    "\n",
    "class Camara:\n",
    "    def __init__(self):\n",
    "        pass\n",
    "    def fotografia(self):\n",
    "        print('tomando foto ..')\n",
    "\n",
    "class Reproduccion:\n",
    "    def __init__(self):\n",
    "        pass\n",
    "    def reproducciondemusica(self):\n",
    "        print('reproduciendo de musica')\n",
    "    def reproduccionvideo(self):\n",
    "        print('reproduciendo video')        "
   ]
  },
  {
   "cell_type": "markdown",
   "id": "cf61031a-8526-4305-a454-be915e733b02",
   "metadata": {},
   "source": [
    "Creamos una clase que albergue las clases definidas anteriormente"
   ]
  },
  {
   "cell_type": "code",
   "execution_count": 123,
   "id": "bc18096d-16fd-44e4-a7f4-a29c1075994e",
   "metadata": {},
   "outputs": [],
   "source": [
    "class Smartphone(Telefono, Camara, Reproduccion):\n",
    "    def __del__(self):\n",
    "        print('telefono apagado')"
   ]
  },
  {
   "cell_type": "markdown",
   "id": "09069ddf-13d4-4696-b070-8584b36fae73",
   "metadata": {},
   "source": [
    "La clase anterior solo posee la utilidad de albergar las demas clases antes definidas. Se le agregar un destructor con nombre `__del__`, metodo que tiene la capacidad de desturir al objeto Smartphone una vez utilizado. Es util utilizar `__del__` debido a que la clase Smartphone() solo nos es util para albergar diferentes clases, pero una vez utilizada no es necesario mantenerla en memoria "
   ]
  },
  {
   "cell_type": "code",
   "execution_count": 124,
   "id": "6016b9e5-b82b-415c-9685-682b10e7af0e",
   "metadata": {},
   "outputs": [
    {
     "name": "stdout",
     "output_type": "stream",
     "text": [
      "llamando ..\n",
      "telefono apagado\n"
     ]
    }
   ],
   "source": [
    "Smartphone().llamar()"
   ]
  },
  {
   "cell_type": "code",
   "execution_count": 125,
   "id": "6de3179d-8907-4685-86ce-f57fe19942b6",
   "metadata": {},
   "outputs": [
    {
     "name": "stdout",
     "output_type": "stream",
     "text": [
      "telefono apagado\n"
     ]
    }
   ],
   "source": [
    "telefono = Smartphone()"
   ]
  },
  {
   "cell_type": "code",
   "execution_count": 126,
   "id": "3bfc5baf-bf5c-41db-8e56-893ef2fd5ef0",
   "metadata": {},
   "outputs": [
    {
     "name": "stdout",
     "output_type": "stream",
     "text": [
      "reproduciendo de musica\n"
     ]
    }
   ],
   "source": [
    "telefono.reproducciondemusica()"
   ]
  },
  {
   "cell_type": "markdown",
   "id": "4dea5aa7-3275-4f28-a8dc-70e9c011767e",
   "metadata": {},
   "source": [
    "La funcion `dir()` nos da la posibilidad de observar los distintos metodos que posee una clase"
   ]
  },
  {
   "cell_type": "code",
   "execution_count": 83,
   "id": "f9cfc62c-acd4-4d99-878d-bce38fcbb43d",
   "metadata": {},
   "outputs": [
    {
     "name": "stdout",
     "output_type": "stream",
     "text": [
      "telefono apagado\n"
     ]
    },
    {
     "data": {
      "text/plain": [
       "['__class__',\n",
       " '__del__',\n",
       " '__delattr__',\n",
       " '__dict__',\n",
       " '__dir__',\n",
       " '__doc__',\n",
       " '__eq__',\n",
       " '__format__',\n",
       " '__ge__',\n",
       " '__getattribute__',\n",
       " '__gt__',\n",
       " '__hash__',\n",
       " '__init__',\n",
       " '__init_subclass__',\n",
       " '__le__',\n",
       " '__lt__',\n",
       " '__module__',\n",
       " '__ne__',\n",
       " '__new__',\n",
       " '__reduce__',\n",
       " '__reduce_ex__',\n",
       " '__repr__',\n",
       " '__setattr__',\n",
       " '__sizeof__',\n",
       " '__str__',\n",
       " '__subclasshook__',\n",
       " '__weakref__',\n",
       " 'fotografia',\n",
       " 'llamar',\n",
       " 'ocupado',\n",
       " 'reproducciondemusica',\n",
       " 'reproduccionvideo']"
      ]
     },
     "execution_count": 83,
     "metadata": {},
     "output_type": "execute_result"
    }
   ],
   "source": [
    "dir(Smartphone())"
   ]
  },
  {
   "cell_type": "code",
   "execution_count": null,
   "id": "34cc1336-b8b4-44bb-8401-e8edf786f04d",
   "metadata": {},
   "outputs": [],
   "source": []
  }
 ],
 "metadata": {
  "kernelspec": {
   "display_name": "Python 3 (ipykernel)",
   "language": "python",
   "name": "python3"
  },
  "language_info": {
   "codemirror_mode": {
    "name": "ipython",
    "version": 3
   },
   "file_extension": ".py",
   "mimetype": "text/x-python",
   "name": "python",
   "nbconvert_exporter": "python",
   "pygments_lexer": "ipython3",
   "version": "3.8.8"
  }
 },
 "nbformat": 4,
 "nbformat_minor": 5
}
