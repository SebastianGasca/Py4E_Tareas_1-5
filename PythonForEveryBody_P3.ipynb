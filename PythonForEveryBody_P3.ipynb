{
 "cells": [
  {
   "cell_type": "code",
   "execution_count": 139,
   "id": "f4ade81e-a532-4d36-8855-1c836b350323",
   "metadata": {},
   "outputs": [],
   "source": [
    "class Category():\n",
    "    #variable de clase\n",
    "    def __init__(self, name):\n",
    "        #variables de instancia\n",
    "        self.category = name\n",
    "        self.ledger = list()\n",
    "        \n",
    "    def deposit(self, *ingreso):\n",
    "        try: \n",
    "            self.d = {'amount': ingreso[0], 'description': ingreso[1]}\n",
    "            self.ledger.append(self.d)\n",
    "            #return(self.ledger)\n",
    "            \n",
    "        except:\n",
    "            self.d = {'amount': ingreso[0], 'description': ''}\n",
    "            self.ledger.append(self.d)\n",
    "            #return(self.ledger)\n",
    "    \n",
    "    def withdraw(self, *gasto):\n",
    "        g = gasto[0]\n",
    "\n",
    "        if self.check_funds(g):\n",
    "            t_f = True\n",
    "            try: \n",
    "                self.d = {'amount': gasto[0] * -1, 'description': gasto[1]}\n",
    "                self.ledger.append(self.d)\n",
    "            except:\n",
    "                self.d = {'amount': gasto[0] * -1, 'description': ''}\n",
    "                self.ledger.append(self.d)\n",
    "        else:\n",
    "            t_f = False\n",
    "        \n",
    "        return(t_f)\n",
    "    \n",
    "    def get_balance(self):\n",
    "        cumsum = 0\n",
    "        for e in self.ledger:\n",
    "            v = e['amount']\n",
    "            cumsum = cumsum + v\n",
    "        return(cumsum)\n",
    "    \n",
    "    def transfer(self, amount, objeto):\n",
    "        if self.check_funds(amount):\n",
    "            self.withdraw(amount, f\"Transfer to {objeto.category}\")\n",
    "            objeto.deposit(amount, f'Transfer from {self.category}')\n",
    "            return True\n",
    "        else:\n",
    "            return False\n",
    "        \n",
    "    def check_funds(self, amount):\n",
    "        cumsum = 0\n",
    "        for e in self.ledger:\n",
    "            v = e['amount']\n",
    "            cumsum = cumsum + v\n",
    "        if cumsum >= amount:\n",
    "            return True\n",
    "        else: \n",
    "            return False\n",
    "    \n",
    "    def __str__(self):\n",
    "        largo_categoria = len(self.category)\n",
    "        cola = int( (30-largo_categoria)/2 )\n",
    "        str_cola = str('*'*cola)\n",
    "        encabezado = f'{str_cola}{self.category}{str_cola}'\n",
    "        \n",
    "        texto = encabezado\n",
    "        lista = self.ledger\n",
    "        for elemento in lista:\n",
    "            descripcion = elemento['description']\n",
    "            cantidad = str( float( '{:.2f}'.format(elemento['amount']) ) )\n",
    "            \n",
    "            decimales = len(cantidad.split(\".\")[1])\n",
    "            if decimales < 2:\n",
    "                cantidad = cantidad + '0'\n",
    "\n",
    "            if len(descripcion) < 24:\n",
    "                n_espacios = 23-len(descripcion)\n",
    "                espaciado_descripcion = ' '*n_espacios\n",
    "\n",
    "                if len(cantidad) < 8:\n",
    "                    n_espacios = 7-len(cantidad)\n",
    "                    espaciado_cantidad = ' '*n_espacios\n",
    "\n",
    "                    texto = f'{texto}\\n{descripcion}{espaciado_descripcion}{espaciado_cantidad}{cantidad}'\n",
    "\n",
    "                else:\n",
    "                    texto = f'{texto}\\n{descripcion}{espaciado_descripcion}{cantidad}'\n",
    "\n",
    "            else:\n",
    "                if len(cantidad) < 8:\n",
    "                    n_espacios = 7-len(cantidad)\n",
    "                    espaciado_cantidad = ' '*n_espacios\n",
    "\n",
    "                    texto = f'{texto}\\n{descripcion[:23]}{espaciado_cantidad}{cantidad}'\n",
    "\n",
    "                else:\n",
    "                    texto = f'{texto}\\n{descripcion[:23]}{cantidad}'\n",
    "                    \n",
    "\n",
    "        total= str( float( '{:.2f}'.format(comida.get_balance()) ) )\n",
    "        decimales = len(total.split(\".\")[1])\n",
    "        if decimales < 2:\n",
    "            total = total + '0' \n",
    "            \n",
    "        texto = f\"{texto}\\nTotal: {total}\"\n",
    "        return texto "
   ]
  },
  {
   "cell_type": "code",
   "execution_count": 140,
   "id": "8a1be652-2221-43b5-92a8-9b3eb813218c",
   "metadata": {},
   "outputs": [],
   "source": [
    "food = Category('Food')"
   ]
  },
  {
   "cell_type": "code",
   "execution_count": 141,
   "id": "f844f2a6-dc50-482d-bdaa-8f5d67c70f36",
   "metadata": {},
   "outputs": [],
   "source": [
    "entertainment = Category(\"Entertainment\")"
   ]
  },
  {
   "cell_type": "code",
   "execution_count": 142,
   "id": "72ee65b5-f086-4b1d-b38e-2b56f0967dcc",
   "metadata": {},
   "outputs": [],
   "source": [
    "food.deposit(900, \"deposit\")"
   ]
  },
  {
   "cell_type": "code",
   "execution_count": 143,
   "id": "8a5bc897-8520-4f32-879d-f330c70338b6",
   "metadata": {},
   "outputs": [
    {
     "data": {
      "text/plain": [
       "True"
      ]
     },
     "execution_count": 143,
     "metadata": {},
     "output_type": "execute_result"
    }
   ],
   "source": [
    "food.withdraw(45.67, \"milk, cereal, eggs, bacon, bread\")"
   ]
  },
  {
   "cell_type": "code",
   "execution_count": 144,
   "id": "a6da5561-dd92-46ea-85dd-6f5c9164b0fe",
   "metadata": {},
   "outputs": [
    {
     "data": {
      "text/plain": [
       "True"
      ]
     },
     "execution_count": 144,
     "metadata": {},
     "output_type": "execute_result"
    }
   ],
   "source": [
    "food.transfer(20, entertainment)"
   ]
  },
  {
   "cell_type": "markdown",
   "id": "f83a38dd-7c69-414a-b8f8-aafa366d5108",
   "metadata": {},
   "source": [
    "---"
   ]
  },
  {
   "cell_type": "code",
   "execution_count": 458,
   "id": "f040cdff-e323-4dd7-8825-3f0d36d7013e",
   "metadata": {},
   "outputs": [],
   "source": [
    "food = Category(\"Food\")\n",
    "entertainment = Category(\"Entertainment\")\n",
    "business = Category(\"Business\")"
   ]
  },
  {
   "cell_type": "code",
   "execution_count": 459,
   "id": "e1136a44-664b-494d-8e8c-cc490d4d338b",
   "metadata": {},
   "outputs": [
    {
     "data": {
      "text/plain": [
       "True"
      ]
     },
     "execution_count": 459,
     "metadata": {},
     "output_type": "execute_result"
    }
   ],
   "source": [
    "food.deposit(900, \"deposit\")\n",
    "entertainment.deposit(900, \"deposit\")\n",
    "business.deposit(900, \"deposit\")\n",
    "food.withdraw(105.55)\n",
    "entertainment.withdraw(33.40)\n",
    "business.withdraw(10.99)"
   ]
  },
  {
   "cell_type": "code",
   "execution_count": 507,
   "id": "3b2b77cf-7d55-4823-b717-8cd2bc7f3264",
   "metadata": {},
   "outputs": [],
   "source": [
    "def gasto_grafico(*categorias):\n",
    "    def gasto_balance(categoria):    \n",
    "        g1 = 0\n",
    "        for e in categoria.ledger:\n",
    "            if e['amount'] < 0:\n",
    "                g1 = g1 + e['amount']\n",
    "        return g1\n",
    "    \n",
    "    l = []\n",
    "    for e in categorias:\n",
    "        l.append(gasto_balance(e)*-1)\n",
    "        \n",
    "    gastos_c = l\n",
    "    gastos_suma = sum(gastos_c)\n",
    "    \n",
    "    participacion = []\n",
    "    for i in gastos_c:\n",
    "        p = int((i/gastos_suma)*100)\n",
    "        p = int(p/10)*10\n",
    "        participacion.append(p)\n",
    "    \n",
    "    libro = {} \n",
    "    for p,c in zip(participacion, categorias):\n",
    "        libro[c.category] = p\n",
    "    \n",
    "    #Cuerpo \n",
    "    titulo = 'Percentage spent by category'\n",
    "    cuerpo = f\"{titulo}\"\n",
    "    \n",
    "    for porcentaje in list(range(100,-10,-10)):\n",
    "        p_str = str(porcentaje)\n",
    "        if len(p_str) == 3:\n",
    "            porcentaje = f'{porcentaje}'  \n",
    "        if len(p_str) == 2:\n",
    "            porcentaje = f' {porcentaje}'\n",
    "        if len(p_str) == 1:\n",
    "            porcentaje = f'  {porcentaje}'\n",
    "            \n",
    "        cuerpo = cuerpo + f\"\\n{porcentaje}|\"\n",
    "        for descrip, gasto in libro.items():\n",
    "            if gasto >= int(porcentaje):\n",
    "                cuerpo = cuerpo + f\" o \"\n",
    "            else:\n",
    "                cuerpo = cuerpo + f\"   \"\n",
    "        \n",
    "    n_categorias = len(libro.items())\n",
    "    lineas = str('---'*n_categorias)\n",
    "    cuerpo = cuerpo + f'\\n    {lineas}-'   \n",
    "    \n",
    "    #Dibujando nombres\n",
    "    c_list = []\n",
    "    for e in libro.keys():\n",
    "        c_list.append(e)\n",
    "    \n",
    "    longest_string = max(c_list, key=len)\n",
    "    largo = len(longest_string)\n",
    "    \n",
    "    c_list_homo = []\n",
    "    for e in c_list:\n",
    "        if len(e) < largo:\n",
    "            dif = largo - len(e)\n",
    "            add = str(' '*dif)\n",
    "            e = f\"{e}{add}\"\n",
    "            c_list_homo.append(e)\n",
    "        else:\n",
    "            c_list_homo.append(e)\n",
    "    \n",
    "    \n",
    "    for n in range(largo):\n",
    "        cuerpo = cuerpo + f\"\\n    \"\n",
    "        for e in c_list_homo:\n",
    "            cuerpo = cuerpo + f\" {e[n]} \"\n",
    "    \n",
    "    return print(cuerpo)"
   ]
  },
  {
   "cell_type": "code",
   "execution_count": 508,
   "id": "e58b55f6-db66-4243-939c-08aea69dad6d",
   "metadata": {},
   "outputs": [
    {
     "name": "stdout",
     "output_type": "stream",
     "text": [
      "Percentage spent by category\n",
      "100|         \n",
      " 90|         \n",
      " 80|         \n",
      " 70|    o    \n",
      " 60|    o    \n",
      " 50|    o    \n",
      " 40|    o    \n",
      " 30|    o    \n",
      " 20|    o  o \n",
      " 10|    o  o \n",
      "  0| o  o  o \n",
      "    ----------\n",
      "     B  F  E \n",
      "     u  o  n \n",
      "     s  o  t \n",
      "     i  d  e \n",
      "     n     r \n",
      "     e     t \n",
      "     s     a \n",
      "     s     i \n",
      "           n \n",
      "           m \n",
      "           e \n",
      "           n \n",
      "           t \n"
     ]
    }
   ],
   "source": [
    "gasto_grafico(business, food, entertainment)"
   ]
  },
  {
   "cell_type": "code",
   "execution_count": 286,
   "id": "dcc28f10-426a-4ce5-b9b2-748b839262f9",
   "metadata": {},
   "outputs": [
    {
     "name": "stdout",
     "output_type": "stream",
     "text": [
      "Percentage spent by category\n",
      "100|          \n",
      " 90|          \n",
      " 80|          \n",
      " 70|    o     \n",
      " 60|    o     \n",
      " 50|    o     \n",
      " 40|    o     \n",
      " 30|    o     \n",
      " 20|    o  o  \n",
      " 10|    o  o  \n",
      "  0| o  o  o  \n",
      "    ----------\n",
      "     B  F  E  \n",
      "     u  o  n  \n",
      "     s  o  t  \n",
      "     i  d  e  \n",
      "     n     r  \n",
      "     e     t  \n",
      "     s     a  \n",
      "     s     i  \n",
      "           n  \n",
      "           m  \n",
      "           e  \n",
      "           n  \n",
      "           t  \n"
     ]
    }
   ],
   "source": [
    "print(\"Percentage spent by category\\n100|          \\n 90|          \\n 80|          \\n 70|    o     \\n 60|    o     \\n 50|    o     \\n 40|    o     \\n 30|    o     \\n 20|    o  o  \\n 10|    o  o  \\n  0| o  o  o  \\n    ----------\\n     B  F  E  \\n     u  o  n  \\n     s  o  t  \\n     i  d  e  \\n     n     r  \\n     e     t  \\n     s     a  \\n     s     i  \\n           n  \\n           m  \\n           e  \\n           n  \\n           t  \")"
   ]
  }
 ],
 "metadata": {
  "kernelspec": {
   "display_name": "Python 3 (ipykernel)",
   "language": "python",
   "name": "python3"
  },
  "language_info": {
   "codemirror_mode": {
    "name": "ipython",
    "version": 3
   },
   "file_extension": ".py",
   "mimetype": "text/x-python",
   "name": "python",
   "nbconvert_exporter": "python",
   "pygments_lexer": "ipython3",
   "version": "3.8.8"
  }
 },
 "nbformat": 4,
 "nbformat_minor": 5
}
