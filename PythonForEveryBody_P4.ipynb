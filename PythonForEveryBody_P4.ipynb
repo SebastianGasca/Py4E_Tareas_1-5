{
 "cells": [
  {
   "cell_type": "code",
   "execution_count": 66,
   "id": "d8b17238-d0fa-4047-a815-f21d21274b0d",
   "metadata": {},
   "outputs": [],
   "source": [
    "class Rectangle:\n",
    "    def __init__(self, ancho, altura):\n",
    "        self.width = ancho\n",
    "        self.height = altura\n",
    "        \n",
    "    def set_width(self, otro_ancho):\n",
    "        self.width = otro_ancho\n",
    "    \n",
    "    def set_height(self, otra_altura):\n",
    "        self.width = otra_altura\n",
    "    \n",
    "    def get_area(self):\n",
    "        return (self.width * self.height)\n",
    "    \n",
    "    def get_perimeter(self):\n",
    "        return ( (2*self.width) + (2 * self.height) )\n",
    "    \n",
    "    def get_diagonal(self):\n",
    "        return ( ( (self.width ** 2) + (self.height **2)  ) ** .5 )\n",
    "    \n",
    "    def get_picture(self):\n",
    "        if self.width > 50 or self.height > 50:\n",
    "            return 'Too big for picture'\n",
    "        else:\n",
    "            str_ancho = str(\"*\" * self.width)\n",
    "            dibujo = f\"{str_ancho}\\n\"\n",
    "            for i in range(self.height - 1):\n",
    "                dibujo = dibujo + f\"{str_ancho}\\n\"\n",
    "            return dibujo\n",
    "        \n",
    "    def get_amount_inside(self, shape):\n",
    "        veces_por_ancho = int(self.width / shape.width)\n",
    "        veces_por_largo = int(self.height / shape.height)\n",
    "        \n",
    "        veces_que_cabe = veces_por_ancho * veces_por_largo\n",
    "        \n",
    "        return veces_que_cabe\n",
    "    \n",
    "    def __str__(self):\n",
    "        return f\"Rectangle(width = {self.width}, height = {self.height})\""
   ]
  },
  {
   "cell_type": "code",
   "execution_count": 73,
   "id": "8d996ac0-1e9a-430e-9806-4e93ebd68b69",
   "metadata": {},
   "outputs": [],
   "source": [
    "class Square(Rectangle):\n",
    "    def __init__(self, lado):\n",
    "        self.width = lado\n",
    "        self.height = lado\n",
    "        \n",
    "    def set_side(self, nuevo_lado):\n",
    "        self.width = nuevo_lado\n",
    "        self.height = nuevo_lado\n",
    "    \n",
    "    def __str__(self):\n",
    "        return f'Square(side = {self.width})'"
   ]
  },
  {
   "cell_type": "markdown",
   "id": "03d7cf4f-7cb5-4f2e-8320-d30c3688dcc7",
   "metadata": {},
   "source": [
    "CREAMOS CLASE"
   ]
  },
  {
   "cell_type": "code",
   "execution_count": 7,
   "id": "4dc721d5-3022-4e39-83aa-a19aeb17e19f",
   "metadata": {},
   "outputs": [],
   "source": [
    "r = Rectangle(10,20)"
   ]
  },
  {
   "cell_type": "markdown",
   "id": "3bcafcb2-04ae-4f67-a253-c766558ff639",
   "metadata": {},
   "source": [
    "DEFINIMOS ANCHO Y LO MODIFICAMOS"
   ]
  },
  {
   "cell_type": "code",
   "execution_count": 11,
   "id": "e2b039da-3734-4632-a691-5622f137589e",
   "metadata": {},
   "outputs": [
    {
     "data": {
      "text/plain": [
       "10"
      ]
     },
     "execution_count": 11,
     "metadata": {},
     "output_type": "execute_result"
    }
   ],
   "source": [
    "r.width"
   ]
  },
  {
   "cell_type": "code",
   "execution_count": 14,
   "id": "405c1172-0448-4c26-bd8a-716fd5f4af73",
   "metadata": {},
   "outputs": [
    {
     "data": {
      "text/plain": [
       "15"
      ]
     },
     "execution_count": 14,
     "metadata": {},
     "output_type": "execute_result"
    }
   ],
   "source": [
    "r.set_width(15)\n",
    "r.width"
   ]
  },
  {
   "cell_type": "markdown",
   "id": "cd099d94-6baa-4c57-9fea-28bd2e70bf86",
   "metadata": {},
   "source": [
    "CALCULAMOS PERIMETRO y DIAGONAL"
   ]
  },
  {
   "cell_type": "code",
   "execution_count": 29,
   "id": "e7f14575-f422-4549-ba62-fcf346ca8b46",
   "metadata": {},
   "outputs": [],
   "source": [
    "r = Rectangle(2,2)"
   ]
  },
  {
   "cell_type": "code",
   "execution_count": 16,
   "id": "d9c887cd-29fd-4014-bb9b-832c77d2ca2e",
   "metadata": {},
   "outputs": [
    {
     "data": {
      "text/plain": [
       "8"
      ]
     },
     "execution_count": 16,
     "metadata": {},
     "output_type": "execute_result"
    }
   ],
   "source": [
    "r.get_perimeter()"
   ]
  },
  {
   "cell_type": "code",
   "execution_count": 17,
   "id": "9e215cea-6258-4d75-b640-7c088c4d763e",
   "metadata": {},
   "outputs": [
    {
     "data": {
      "text/plain": [
       "2.8284271247461903"
      ]
     },
     "execution_count": 17,
     "metadata": {},
     "output_type": "execute_result"
    }
   ],
   "source": [
    "r.get_diagonal()"
   ]
  },
  {
   "cell_type": "markdown",
   "id": "24c46424-a8b0-4552-a1d8-026c28c89dee",
   "metadata": {},
   "source": [
    "Dibujando "
   ]
  },
  {
   "cell_type": "code",
   "execution_count": 34,
   "id": "282c7b2b-0e6c-4bfe-a0f6-82484d921479",
   "metadata": {},
   "outputs": [],
   "source": [
    "r = Rectangle(51,10)"
   ]
  },
  {
   "cell_type": "code",
   "execution_count": 35,
   "id": "e073619b-6cd9-40bf-b36d-9c32f22a0e92",
   "metadata": {},
   "outputs": [
    {
     "name": "stdout",
     "output_type": "stream",
     "text": [
      "Too big for picture\n"
     ]
    }
   ],
   "source": [
    "print(r.get_picture())"
   ]
  },
  {
   "cell_type": "markdown",
   "id": "ea4cbda8-cdc5-4cac-b5cf-abc1a956ed1b",
   "metadata": {},
   "source": [
    "Calculando fit into"
   ]
  },
  {
   "cell_type": "code",
   "execution_count": 64,
   "id": "6b51f87a-8bb4-4e20-ad7a-24ddbbd04e0e",
   "metadata": {},
   "outputs": [],
   "source": [
    "r1 = Rectangle(10,2)\n",
    "r2 = Rectangle(3,2)"
   ]
  },
  {
   "cell_type": "code",
   "execution_count": 65,
   "id": "f8636524-fcad-428c-a824-101d14d8839b",
   "metadata": {},
   "outputs": [
    {
     "data": {
      "text/plain": [
       "3"
      ]
     },
     "execution_count": 65,
     "metadata": {},
     "output_type": "execute_result"
    }
   ],
   "source": [
    "r1.get_amount_inside(r2)"
   ]
  },
  {
   "cell_type": "markdown",
   "id": "fdf2c647-f143-40fc-a0eb-d7408d0cc1e7",
   "metadata": {},
   "source": [
    "Revisamos Subclase"
   ]
  },
  {
   "cell_type": "code",
   "execution_count": 75,
   "id": "6efe0c55-c3c6-42b0-9f33-f93b975ab28d",
   "metadata": {},
   "outputs": [],
   "source": [
    "r1 = Rectangle(10,5)"
   ]
  },
  {
   "cell_type": "code",
   "execution_count": 76,
   "id": "0f96a1af-55da-4f43-8f34-e62db785e2db",
   "metadata": {},
   "outputs": [],
   "source": [
    "s = Square(2)"
   ]
  },
  {
   "cell_type": "code",
   "execution_count": 79,
   "id": "60dc057b-15b6-4dcc-bc8b-4e5f334b934d",
   "metadata": {},
   "outputs": [],
   "source": [
    "s.set_side(3)"
   ]
  },
  {
   "cell_type": "code",
   "execution_count": 83,
   "id": "221b78dd-21a0-4024-b49c-e3df12a86be7",
   "metadata": {},
   "outputs": [
    {
     "name": "stdout",
     "output_type": "stream",
     "text": [
      "***\n",
      "***\n",
      "***\n",
      "\n"
     ]
    }
   ],
   "source": [
    "print(s.get_picture())"
   ]
  },
  {
   "cell_type": "code",
   "execution_count": 80,
   "id": "dfa3bd4e-3ce6-410e-b60f-449cad0eac81",
   "metadata": {},
   "outputs": [
    {
     "name": "stdout",
     "output_type": "stream",
     "text": [
      "Square(side = 3)\n"
     ]
    }
   ],
   "source": [
    "print(s)"
   ]
  }
 ],
 "metadata": {
  "kernelspec": {
   "display_name": "Python 3 (ipykernel)",
   "language": "python",
   "name": "python3"
  },
  "language_info": {
   "codemirror_mode": {
    "name": "ipython",
    "version": 3
   },
   "file_extension": ".py",
   "mimetype": "text/x-python",
   "name": "python",
   "nbconvert_exporter": "python",
   "pygments_lexer": "ipython3",
   "version": "3.8.8"
  }
 },
 "nbformat": 4,
 "nbformat_minor": 5
}
