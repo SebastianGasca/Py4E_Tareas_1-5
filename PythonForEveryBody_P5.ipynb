{
 "cells": [
  {
   "cell_type": "code",
   "execution_count": 101,
   "id": "b72fbffd-9e85-4fd5-9516-04e4152c93cf",
   "metadata": {},
   "outputs": [],
   "source": [
    "class Hat:\n",
    "    def __init__(self, **color_n):\n",
    "        dic = color_n\n",
    "        l = []\n",
    "        for key in dic.keys():\n",
    "            if dic[key] == 0:\n",
    "                pass\n",
    "            else:\n",
    "                for value in range(dic[key]):\n",
    "                    l.append(key)\n",
    "        self.contents = l\n",
    "    \n",
    "    def draw(self, n_draw):\n",
    "        import random\n",
    "        \n",
    "        if n_draw > len(self.contents):\n",
    "            return self.contents\n",
    "        else:\n",
    "            l_draw = random.sample(self.contents, k = n_draw)\n",
    "            for elemento in l_draw:\n",
    "                self.contents.remove(elemento)\n",
    "            return l_draw"
   ]
  },
  {
   "cell_type": "code",
   "execution_count": 133,
   "id": "66dcbfcf-aeac-4d20-bb59-f704a9f2006d",
   "metadata": {},
   "outputs": [],
   "source": [
    "gorro = Hat(red=5, blue= 2)"
   ]
  },
  {
   "cell_type": "code",
   "execution_count": 121,
   "id": "d2bfdda5-3033-4995-98f0-43c7d7e0d791",
   "metadata": {},
   "outputs": [
    {
     "data": {
      "text/plain": [
       "['red', 'red', 'red', 'red', 'red', 'blue', 'blue']"
      ]
     },
     "execution_count": 121,
     "metadata": {},
     "output_type": "execute_result"
    }
   ],
   "source": [
    "dic = gorro.contents\n",
    "dic"
   ]
  },
  {
   "cell_type": "code",
   "execution_count": 108,
   "id": "d9ce10ab-f5e9-4bbf-86e9-729cdb56324d",
   "metadata": {},
   "outputs": [
    {
     "data": {
      "text/plain": [
       "['red', 'red']"
      ]
     },
     "execution_count": 108,
     "metadata": {},
     "output_type": "execute_result"
    }
   ],
   "source": [
    "r = gorro.draw(2)\n",
    "r"
   ]
  },
  {
   "cell_type": "code",
   "execution_count": 134,
   "id": "ca0d0ec2-928a-4eda-95fe-551437fc6cd9",
   "metadata": {},
   "outputs": [],
   "source": [
    "import copy\n",
    "gorroEnUso = copy.deepcopy(gorro)"
   ]
  },
  {
   "cell_type": "code",
   "execution_count": 135,
   "id": "da2e8aab-8de5-46b3-857e-18d25c5d3a4a",
   "metadata": {},
   "outputs": [
    {
     "data": {
      "text/plain": [
       "['red', 'red', 'red', 'red', 'red', 'blue', 'blue']"
      ]
     },
     "execution_count": 135,
     "metadata": {},
     "output_type": "execute_result"
    }
   ],
   "source": [
    "gorro.contents"
   ]
  },
  {
   "cell_type": "code",
   "execution_count": 136,
   "id": "61f8fe13-92e8-493a-a00b-89c465c025fe",
   "metadata": {},
   "outputs": [
    {
     "data": {
      "text/plain": [
       "['red', 'red', 'red', 'red', 'red', 'blue', 'blue']"
      ]
     },
     "execution_count": 136,
     "metadata": {},
     "output_type": "execute_result"
    }
   ],
   "source": [
    "gorroEnUso.contents"
   ]
  },
  {
   "cell_type": "code",
   "execution_count": 137,
   "id": "e61b697c-1cfb-4616-b8ed-9f6f97ff8cdf",
   "metadata": {},
   "outputs": [
    {
     "data": {
      "text/plain": [
       "['red', 'blue']"
      ]
     },
     "execution_count": 137,
     "metadata": {},
     "output_type": "execute_result"
    }
   ],
   "source": [
    "gorroEnUso.draw(2)"
   ]
  },
  {
   "cell_type": "code",
   "execution_count": 138,
   "id": "a26f8ae4-0b66-4364-a50f-22d9b357d86b",
   "metadata": {},
   "outputs": [
    {
     "data": {
      "text/plain": [
       "(['red', 'red', 'red', 'red', 'red', 'blue', 'blue'],\n",
       " ['red', 'red', 'red', 'red', 'blue'])"
      ]
     },
     "execution_count": 138,
     "metadata": {},
     "output_type": "execute_result"
    }
   ],
   "source": [
    "gorro.contents, gorroEnUso.contents"
   ]
  },
  {
   "cell_type": "code",
   "execution_count": null,
   "id": "f845fb4b-4e23-4c70-b2e7-124c1ea6fb54",
   "metadata": {},
   "outputs": [],
   "source": [
    "gorro.contents.count('red')"
   ]
  },
  {
   "cell_type": "code",
   "execution_count": 142,
   "id": "72860e32-72c6-40ac-a6cf-b6ad98a80f11",
   "metadata": {},
   "outputs": [
    {
     "data": {
      "text/plain": [
       "Counter({'red': 5, 'blue': 2})"
      ]
     },
     "execution_count": 142,
     "metadata": {},
     "output_type": "execute_result"
    }
   ],
   "source": [
    "from collections import Counter\n",
    "Counter(gorro.contents)"
   ]
  },
  {
   "cell_type": "code",
   "execution_count": 305,
   "id": "71a9d162-83d3-478f-ba70-e007206cad1e",
   "metadata": {},
   "outputs": [],
   "source": [
    "def experiment(hat, expected_balls, num_balls_drawn, num_experiments):\n",
    "    import copy\n",
    "    #from collections import Counter as counter\n",
    "    \n",
    "    N = 0\n",
    "    for iteracion in range(num_experiments):\n",
    "        \n",
    "        gorro_en_uso = copy.deepcopy(hat)\n",
    "        bolas_sacadas = gorro_en_uso.draw(num_balls_drawn)\n",
    "        #dic_bolas_sacadas = counter(bolas_sacadas)\n",
    "\n",
    "        l = []\n",
    "        for bola in expected_balls.keys():\n",
    "            n1 = bolas_sacadas.count(bola)\n",
    "            if n1 >= expected_balls[bola]:\n",
    "                l.append('OK')\n",
    "            else:\n",
    "                l.append('NOT')\n",
    "\n",
    "        if all(item in ['OK'] for item in l):\n",
    "            N = N + 1\n",
    "    \n",
    "    return(N/num_experiments)\n",
    "     "
   ]
  },
  {
   "cell_type": "code",
   "execution_count": 306,
   "id": "a608197e-d5cc-44d2-8ec2-48a7e226bfe2",
   "metadata": {},
   "outputs": [],
   "source": [
    "hat = Hat(black=6, red=4, green=3)"
   ]
  },
  {
   "cell_type": "code",
   "execution_count": 303,
   "id": "9f640de8-979d-46cb-b92f-a36964b462d6",
   "metadata": {},
   "outputs": [
    {
     "name": "stdout",
     "output_type": "stream",
     "text": [
      "0.3705\n"
     ]
    }
   ],
   "source": [
    "probability = experiment(hat=hat,\n",
    "                  expected_balls={\"red\":2,\"green\":1},\n",
    "                  num_balls_drawn=5,\n",
    "                  num_experiments=2000)"
   ]
  },
  {
   "cell_type": "code",
   "execution_count": 330,
   "id": "3bbe343b-f684-493a-aed2-3c6668889fd7",
   "metadata": {},
   "outputs": [],
   "source": [
    "hat = Hat(blue=3,red=2,green=6)"
   ]
  },
  {
   "cell_type": "code",
   "execution_count": 331,
   "id": "f35c9286-3e2a-4737-b04a-7b04a8a0a107",
   "metadata": {},
   "outputs": [
    {
     "name": "stdout",
     "output_type": "stream",
     "text": [
      "0.265\n"
     ]
    }
   ],
   "source": [
    "probability = experiment(hat=hat, expected_balls={\"blue\":2,\"green\":1}, num_balls_drawn=4, num_experiments=1000)"
   ]
  },
  {
   "cell_type": "code",
   "execution_count": null,
   "id": "80c5f8c3-e85d-49f2-b6ee-91f87e7734f6",
   "metadata": {},
   "outputs": [],
   "source": []
  }
 ],
 "metadata": {
  "kernelspec": {
   "display_name": "Python 3 (ipykernel)",
   "language": "python",
   "name": "python3"
  },
  "language_info": {
   "codemirror_mode": {
    "name": "ipython",
    "version": 3
   },
   "file_extension": ".py",
   "mimetype": "text/x-python",
   "name": "python",
   "nbconvert_exporter": "python",
   "pygments_lexer": "ipython3",
   "version": "3.8.8"
  }
 },
 "nbformat": 4,
 "nbformat_minor": 5
}
