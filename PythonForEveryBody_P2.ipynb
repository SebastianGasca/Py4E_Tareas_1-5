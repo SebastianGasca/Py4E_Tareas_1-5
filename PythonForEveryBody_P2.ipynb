{
 "cells": [
  {
   "cell_type": "markdown",
   "id": "fc7f2850-70d1-42af-82dd-ae848d8c9739",
   "metadata": {},
   "source": [
    "La idea es tener un input de maximo 3 parametros. \n",
    "\n",
    "Los primeros dos parametros seran el tiempo inicial y el tiempo a sumar"
   ]
  },
  {
   "cell_type": "code",
   "execution_count": 60,
   "id": "9bc03dd1-5591-4003-ae0e-5d7de3e30bc5",
   "metadata": {},
   "outputs": [
    {
     "data": {
      "text/plain": [
       "('AM', 3, 30)"
      ]
     },
     "execution_count": 60,
     "metadata": {},
     "output_type": "execute_result"
    }
   ],
   "source": [
    "hora = '3:30 AM'\n",
    "tiempo_am_pm = hora.split()  \n",
    "\n",
    "am_pm = tiempo_am_pm[1]\n",
    "\n",
    "hora = tiempo_am_pm[0].split(':')[0]\n",
    "hora = int(hora)\n",
    "minuto = tiempo_am_pm[0].split(':')[1]\n",
    "minuto = int(minuto)\n",
    "\n",
    "(am_pm, hora, minuto)"
   ]
  },
  {
   "cell_type": "markdown",
   "id": "254f7a9c-6210-4f9b-8587-f9040da099a2",
   "metadata": {},
   "source": [
    "Ahora debemos considerar que sumamos un numero de horas minutos (HH:MM) y el tiempo inicial deberia cambiar. Como hacemos esto?\n",
    "\n",
    "Primero pensemos que no podemos superar las 12 horas (es decir que es modulo 12). Si el numero suma igual o mayor a 12 se divide y se deja el resto. En caso de que los minutos sumen igual o mayor a 60 se deja el resto.\n",
    "\n",
    "Si sumamos a 3:30 AM, 12 horas y 35 minutos deberia darnos 3 + 12 = 15 -> 3 PM, ademas de 30 + 35 -> 65, lo que quedaria como 4:05 PM"
   ]
  },
  {
   "cell_type": "code",
   "execution_count": 61,
   "id": "195cda5c-3d9c-47af-bb4c-d091cc6a7f15",
   "metadata": {},
   "outputs": [],
   "source": [
    "t_sum = '12:35'\n",
    "def hora_min(t):\n",
    "    hora = t.split(':')[0]\n",
    "    hora = int(hora)\n",
    "    minuto = t.split(':')[1]\n",
    "    minuto = int(minuto)\n",
    "    return (hora, minuto)\n",
    "\n",
    "hora_s = hora_min(t_sum)[0]\n",
    "minuto_s = hora_min(t_sum)[1]"
   ]
  },
  {
   "cell_type": "code",
   "execution_count": 62,
   "id": "89ff15d1-5efb-4102-a963-35eac7811126",
   "metadata": {},
   "outputs": [
    {
     "data": {
      "text/plain": [
       "(3, 12, 30, 35)"
      ]
     },
     "execution_count": 62,
     "metadata": {},
     "output_type": "execute_result"
    }
   ],
   "source": [
    "(hora, hora_s, minuto, minuto_s)"
   ]
  },
  {
   "cell_type": "code",
   "execution_count": 69,
   "id": "c74fd977-6328-4c09-95fd-4071d9d2c380",
   "metadata": {},
   "outputs": [
    {
     "data": {
      "text/plain": [
       "3"
      ]
     },
     "execution_count": 69,
     "metadata": {},
     "output_type": "execute_result"
    }
   ],
   "source": [
    "(hora + hora_s) % 12"
   ]
  },
  {
   "cell_type": "code",
   "execution_count": 70,
   "id": "7c9d9c15-135a-46b5-96c9-8598e6ef4d5e",
   "metadata": {},
   "outputs": [
    {
     "data": {
      "text/plain": [
       "5"
      ]
     },
     "execution_count": 70,
     "metadata": {},
     "output_type": "execute_result"
    }
   ],
   "source": [
    "(minuto + minuto_s) % 60"
   ]
  },
  {
   "cell_type": "code",
   "execution_count": 84,
   "id": "3d967afc-f0e9-4402-bf98-7e1c48dbed5f",
   "metadata": {},
   "outputs": [
    {
     "data": {
      "text/plain": [
       "'3:15'"
      ]
     },
     "execution_count": 84,
     "metadata": {},
     "output_type": "execute_result"
    }
   ],
   "source": [
    "hora_n = (hora + hora_s) % 12\n",
    "hora_n = str(hora_n)\n",
    "minuto_n = (minuto + minuto_s) % 60\n",
    "minuto_n = str(minuto_n)\n",
    "\n",
    "if len(minuto_n) == 1:\n",
    "    minuto_n = \"0{}\".format(minuto_n)\n",
    "\n",
    "'{}:{}'.format(hora_n, minuto_n)"
   ]
  },
  {
   "cell_type": "markdown",
   "id": "70d02744-cc80-4538-a274-8816d1b6cc85",
   "metadata": {},
   "source": [
    "Entonces, ya tenemos una forma de sumar horas de manera efectiva. Ahora hay que hacer una funcion que resuma el calculo"
   ]
  },
  {
   "cell_type": "code",
   "execution_count": 240,
   "id": "54b86e3a-b39a-4d02-9c25-ee672251f6c2",
   "metadata": {},
   "outputs": [],
   "source": [
    "def hora_min(t):\n",
    "    hora = t.split(':')[0]\n",
    "    hora = int(hora)\n",
    "    \n",
    "    minuto = t.split(':')[1]\n",
    "    minuto = int(minuto)\n",
    "    \n",
    "    return (hora, minuto)\n",
    "\n",
    "def sumar_tiempo(*parametros):\n",
    "    tiempo_am_pm = parametros[0].split()\n",
    "\n",
    "    #Hora y Minuto\n",
    "    hora = hora_min(tiempo_am_pm[0])[0]\n",
    "    minuto = hora_min(tiempo_am_pm[0])[1]\n",
    "    \n",
    "    #Formato AM/PM\n",
    "    am_pm = tiempo_am_pm[1]\n",
    "    if am_pm == 'AM':\n",
    "        am_pm_num = 1\n",
    "    else:\n",
    "        am_pm_num = 2\n",
    "    \n",
    "    #Dias\n",
    "    dias = 0\n",
    "    dias_etiqueta = None\n",
    "    \n",
    "    #==\n",
    "    \n",
    "    #Hora y Min sumar\n",
    "    hora_s = hora_min(parametros[1])[0]\n",
    "    minuto_s = hora_min(parametros[1])[1]\n",
    "    \n",
    "    #sumamos\n",
    "    hora_suma = (hora + hora_s) \n",
    "    minuto_suma = (minuto + minuto_s) \n",
    "    \n",
    "    #--\n",
    "    if minuto_suma >= 60:\n",
    "        hora_suma = hora_suma + 1\n",
    "        minuto_suma = minuto_suma % 60\n",
    "    \n",
    "    #---\n",
    "    if hora_suma >= 12:\n",
    "        hora_sum_m12 = hora_suma % 12\n",
    "        if hora_sum_m12 == 0:\n",
    "            hora_sum_m12 = 12\n",
    "            \n",
    "        #contar los medios dias\n",
    "        medios_dias = int(hora_suma/12)\n",
    "        #AM/PM numerico\n",
    "        am_pm_num = am_pm_num + medios_dias\n",
    "        \n",
    "        if medios_dias == 1 and am_pm == 'PM':\n",
    "            dias = 1\n",
    "            dias_etiqueta = 'next day'\n",
    "        \n",
    "    else:\n",
    "        hora_sum_m12 = hora_suma\n",
    "        \n",
    "        medios_dias = int(hora_suma/12)\n",
    "        am_pm_num = am_pm_num + medios_dias\n",
    "       \n",
    "    #---\n",
    "    if medios_dias > 1:\n",
    "        if am_pm == 'PM':\n",
    "            dias = 1\n",
    "            medios_dias = medios_dias - 1\n",
    "            dias = int((medios_dias/2)) + dias\n",
    "            if dias == 1:\n",
    "                dias_etiqueta = 'next day'\n",
    "            else:\n",
    "                dias_etiqueta = f'{dias} days later'\n",
    "        else:\n",
    "            dias = int((medios_dias/2))\n",
    "            if dias == 1:\n",
    "                dias_etiqueta = 'next day'\n",
    "            else:\n",
    "                dias_etiqueta = f'{dias} days later'\n",
    "         \n",
    "    #---\n",
    "    if am_pm_num % 2 == 0:\n",
    "        am_pm = 'PM'\n",
    "    else:\n",
    "        am_pm = 'AM'  \n",
    "        \n",
    "    if len(str(minuto_suma)) == 1:\n",
    "        minuto_str = \"0{}\".format(minuto_suma) \n",
    "    else:\n",
    "        minuto_str = str(minuto_suma)\n",
    "\n",
    "    try:\n",
    "        nombre_dia = parametros[2].title()\n",
    "        d = {'Monday': 1, 'Tuesday': 2, 'Wednesday': 3, \n",
    "             'Thursday': 4, 'Friday': 5, 'Saturday': 6, \n",
    "             'Sunday': 0}\n",
    "        n_dia = d[nombre_dia]\n",
    "        n_dia_post = (n_dia + dias) % 7 \n",
    "        for x in list(d.items()):\n",
    "            if x[1] == n_dia_post:\n",
    "                nombre_del_dia = x[0]\n",
    "    except:\n",
    "        nombre_del_dia = None\n",
    "    \n",
    "    if nombre_del_dia is None:\n",
    "        #print('no hay nombre dia')\n",
    "        if dias_etiqueta is None:\n",
    "        #    print('no hay nombre dia pero no dia etiqueta')\n",
    "            out = \"{}:{} {}\".format(hora_sum_m12, minuto_str, am_pm) \n",
    "        else:\n",
    "         #   print('hay nombre dia y hay dia etiqueta')\n",
    "            out = \"{}:{} {} ({})\".format(hora_sum_m12, minuto_str, am_pm, dias_etiqueta)\n",
    "    else:\n",
    "        #print('hay nombre dia')\n",
    "        if dias_etiqueta is None:\n",
    "            #print('hya nombre dia, pero no nombre etiqueta')\n",
    "            out = \"{}:{} {}, {}\".format(hora_sum_m12, minuto_str, am_pm, nombre_del_dia)\n",
    "        else:\n",
    "            #print('')\n",
    "            out = \"{}:{} {}, {} ({})\".format(hora_sum_m12, minuto_str, am_pm, nombre_del_dia, dias_etiqueta)\n",
    "    \n",
    "    return(out)"
   ]
  },
  {
   "cell_type": "code",
   "execution_count": 241,
   "id": "96539428-0b79-44aa-ad2d-5c9c781873bf",
   "metadata": {},
   "outputs": [
    {
     "data": {
      "text/plain": [
       "'2:59 AM, Sunday (next day)'"
      ]
     },
     "execution_count": 241,
     "metadata": {},
     "output_type": "execute_result"
    }
   ],
   "source": [
    "sumar_tiempo(\"2:59 AM\", \"24:00\", \"saturDay\")"
   ]
  },
  {
   "cell_type": "code",
   "execution_count": null,
   "id": "243039a3-dd49-49de-9b8d-086fb57e8f39",
   "metadata": {},
   "outputs": [],
   "source": []
  }
 ],
 "metadata": {
  "kernelspec": {
   "display_name": "Python 3 (ipykernel)",
   "language": "python",
   "name": "python3"
  },
  "language_info": {
   "codemirror_mode": {
    "name": "ipython",
    "version": 3
   },
   "file_extension": ".py",
   "mimetype": "text/x-python",
   "name": "python",
   "nbconvert_exporter": "python",
   "pygments_lexer": "ipython3",
   "version": "3.8.8"
  }
 },
 "nbformat": 4,
 "nbformat_minor": 5
}
